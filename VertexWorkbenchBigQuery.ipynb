{
 "cells": [
  {
   "cell_type": "code",
   "execution_count": null,
   "id": "f08133e5-25d7-45a4-9a3e-a52e39f3d5e9",
   "metadata": {
    "tags": []
   },
   "outputs": [],
   "source": [
    "# Copyright 2025 Google LLC\n",
    "#\n",
    "# Licensed under the Apache License, Version 2.0 (the \"License\");\n",
    "# you may not use this file except in compliance with the License.\n",
    "# You may obtain a copy of the License at\n",
    "#\n",
    "#     https://www.apache.org/licenses/LICENSE-2.0\n",
    "#\n",
    "# Unless required by applicable law or agreed to in writing, software\n",
    "# distributed under the License is distributed on an \"AS IS\" BASIS,\n",
    "# WITHOUT WARRANTIES OR CONDITIONS OF ANY KIND, either express or implied.\n",
    "# See the License for the specific language governing permissions and\n",
    "# limitations under the License."
   ]
  },
  {
   "cell_type": "markdown",
   "id": "3f36c9b9-43ff-4b26-96ae-b84798a480a3",
   "metadata": {},
   "source": [
    "# Introduction \n",
    "\n",
    "This notebook offers demonstrations of different methods of querying data that is stored in BigQuery from within the JupyterLab interface of your Vertex AI Workbench instance.\n",
    "\n",
    "Confused ? Let's define each of these terms in case they're new to you\n",
    "\n",
    " * **BigQuery** BigQuery is a fully managed, AI-ready data platform that helps you manage and analyze your data with built-in features like machine learning, search, geospatial analysis, and business intelligence. BigQuery's serverless architecture lets you use languages like SQL and Python to answer your organization's biggest questions with zero infrastructure management.\n",
    " \n",
    " * **JupyterLab**  JupyterLab is a highly extensible, feature-rich notebook authoring application and editing environment, and is a part of Project Jupyter, a large umbrella project centered around the goal of providing tools (and standards) for interactive computing with computational notebooks.\n",
    " \n",
    " * **Vertex AI Workbench instance** Vertex AI Workbench instances are Jupyter notebook-based development environments on Google Cloud for the entire data science workflow. Vertex AI Workbench instances are prepackaged with JupyterLab. Vertex AI Workbench instances have integrations and features can make it easier to access your data, process data faster, schedule notebook runs, and more.\n",
    " \n",
    "For most of these methods, we will use a **Python JupyterLab Kernel**. In the Jupyter architecture, kernels are separate processes started by the server that run your code in different programming languages and environments.  We will use the IPython Jupyter Kernel that comes prepackaged with Vertex AI Workbench Instances. This will allow us to execute Python code in this notebook interactively.\n",
    "\n",
    "Reference: \n",
    "\n",
    "https://cloud.google.com/bigquery/docs/introduction\n",
    "\n",
    "https://jupyterlab.readthedocs.io/en/latest/user/interface.html\n",
    "\n",
    "https://cloud.google.com/vertex-ai/docs/workbench/instances/introduction\n",
    "\n",
    "https://jupyterlab.readthedocs.io/en/latest/user/documents_kernels.html#kernel-backed-documents\n",
    "\n",
    "https://ipython.readthedocs.io/en/stable/index.html"
   ]
  },
  {
   "cell_type": "markdown",
   "id": "7bf82d26-df4a-43c4-bd39-311e65b98416",
   "metadata": {},
   "source": [
    "## Method 1 : Using BigQuery Studio, to explore and preview data\n",
    "\n",
    "BigQuery has public datasets which will be ananlyzing in this notebook.\n",
    "\n",
    "In this method we will be using BigQuery Studio, a UI on Google Cloud, to get a sampe of records for these datasets.\n",
    "\n",
    "Open BigQuery studio by clicking on this link https://console.cloud.google.com/bigquery\n",
    "\n",
    "Explore the Google trends public dataset by followin these steps:\n",
    "\n",
    " * select project \"bigquery-public-data\"\n",
    "   * select datatset \"google_trends\"\n",
    "     * select table \"international_top_terms\"\n",
    "       * click \"preview\" to see a sample of rows from this table\n",
    "\n",
    "\n"
   ]
  },
  {
   "cell_type": "markdown",
   "id": "e887f7d6-7d53-40ea-b319-7b4be823c170",
   "metadata": {},
   "source": [
    "## Method 2 : Using the BigQuery Pane in Vertex AI workbnench\n",
    "This is Method 1 of querying data that is stored in BigQuery from within the JupyterLab interface of your Vertex AI Workbench instance.\n",
    "\n",
    "BigQuery is integrated into the the JupyterLab interface of your Vertex AI Workbench instance.\n",
    "\n",
    "Through this integration you can use a BigQuery pane that lists available projects and datasets.\n",
    "\n",
    "Let's use this BigQuery pane now to explore some BigQuery public datasets.\n",
    "\n",
    "* select project \"bigquery-public-data\"\n",
    "  * select datatset \"google_trends\"\n",
    "    * select table \"international_top_terms\"\n",
    "    * click \"preview\" to see a sample of rows from this table\n",
    "    * click \"query table\" to open the Stand-alone BigQuery query editor opens as a separate tab in JupyterLab.\n",
    "\n",
    "Reference :\n",
    "\n",
    "https://cloud.google.com/vertex-ai/docs/workbench/instances/bigquery#browse_resources\n",
    "\n",
    "https://cloud.google.com/vertex-ai/docs/workbench/instances/bigquery#stand-alone"
   ]
  },
  {
   "cell_type": "markdown",
   "id": "73469eb3-379b-40a0-8e48-fe135a074578",
   "metadata": {
    "tags": []
   },
   "source": [
    "## Method 3 : Using the %%bigquery magic command\n",
    "\n",
    "This is Method 2 of querying data that is stored in BigQuery from within the JupyterLab interface of your Vertex AI Workbench instance.\n",
    "\n",
    "For this method, it is required to use the IPython Jupyter Kernel that comes prepackaged with Vertex AI Workbench Instances. Please select & connect to it now.\n",
    "\n",
    "The IPython Jupyter Kernel has a feature called \"cell magics\" which are handy commands built into the IPython kernel that make it easy to perform particular tasks.\n",
    "\n",
    "BigQuery has developed \"cell magics\" to make it easy to execute SQL queries. There are two BigQuery \"cell magics\" \n",
    "\n",
    "1. %%bigquery\n",
    "\n",
    "  *  Behind the scenes, the %%bigquery magic command uses the BigQuery client library for Python to run the given query\n",
    "  *  Then convert the results to a pandas DataFrame \n",
    "  *  Then display results.\n",
    "\n",
    "2. %%bigquery my_pandas_data_frame\n",
    "\n",
    "  *  Behind the scenes, the %%bigquery magic command uses the BigQuery client library for Python to run the given query\n",
    "  *  Then convert the results to a pandas DataFrame \n",
    "  *  Then save the pandas DataFrame to the variable my_pandas_data_frame\n",
    "  \n",
    "See exampe of these two \"cell magics\" below\n",
    "\n",
    "Reference:\n",
    "\n",
    "https://cloud.google.com/vertex-ai/docs/workbench/instances/bigquery#query_data_by_using_the_bigquery_magic_command\n",
    "\n",
    "https://ipython.readthedocs.io/en/stable/interactive/magics.html#cell-magics\n",
    "\n",
    "https://ipython.readthedocs.io/en/stable/interactive/magics.html#line-magics\n",
    "\n",
    "https://cloud.google.com/python/docs/reference/bigquery/latest/magics\n"
   ]
  },
  {
   "cell_type": "code",
   "execution_count": 15,
   "id": "40035527-b288-4384-a072-1fa7bb7d569c",
   "metadata": {},
   "outputs": [
    {
     "data": {
      "application/json": {
       "ascii": false,
       "bar_format": "{l_bar}{bar}|",
       "colour": null,
       "elapsed": 0.0065577030181884766,
       "initial": 0,
       "n": 0,
       "ncols": null,
       "nrows": null,
       "postfix": null,
       "prefix": "Query is running",
       "rate": null,
       "total": 1,
       "unit": "query",
       "unit_divisor": 1000,
       "unit_scale": false
      },
      "application/vnd.jupyter.widget-view+json": {
       "model_id": "d2a9d2d780074f6b990d0a76ff633198",
       "version_major": 2,
       "version_minor": 0
      },
      "text/plain": [
       "Query is running:   0%|          |"
      ]
     },
     "metadata": {},
     "output_type": "display_data"
    },
    {
     "data": {
      "application/json": {
       "ascii": false,
       "bar_format": "{l_bar}{bar}|",
       "colour": null,
       "elapsed": 0.006012678146362305,
       "initial": 0,
       "n": 0,
       "ncols": null,
       "nrows": null,
       "postfix": null,
       "prefix": "Downloading",
       "rate": null,
       "total": 10,
       "unit": "rows",
       "unit_divisor": 1000,
       "unit_scale": false
      },
      "application/vnd.jupyter.widget-view+json": {
       "model_id": "c5e13ec8a4e24071b23a8a620dc6cb46",
       "version_major": 2,
       "version_minor": 0
      },
      "text/plain": [
       "Downloading:   0%|          |"
      ]
     },
     "metadata": {},
     "output_type": "display_data"
    },
    {
     "data": {
      "text/html": [
       "<div>\n",
       "<style scoped>\n",
       "    .dataframe tbody tr th:only-of-type {\n",
       "        vertical-align: middle;\n",
       "    }\n",
       "\n",
       "    .dataframe tbody tr th {\n",
       "        vertical-align: top;\n",
       "    }\n",
       "\n",
       "    .dataframe thead th {\n",
       "        text-align: right;\n",
       "    }\n",
       "</style>\n",
       "<table border=\"1\" class=\"dataframe\">\n",
       "  <thead>\n",
       "    <tr style=\"text-align: right;\">\n",
       "      <th></th>\n",
       "      <th>country_code</th>\n",
       "      <th>country_name</th>\n",
       "      <th>num_regions</th>\n",
       "    </tr>\n",
       "  </thead>\n",
       "  <tbody>\n",
       "    <tr>\n",
       "      <th>0</th>\n",
       "      <td>TR</td>\n",
       "      <td>Turkey</td>\n",
       "      <td>81</td>\n",
       "    </tr>\n",
       "    <tr>\n",
       "      <th>1</th>\n",
       "      <td>TH</td>\n",
       "      <td>Thailand</td>\n",
       "      <td>77</td>\n",
       "    </tr>\n",
       "    <tr>\n",
       "      <th>2</th>\n",
       "      <td>VN</td>\n",
       "      <td>Vietnam</td>\n",
       "      <td>63</td>\n",
       "    </tr>\n",
       "    <tr>\n",
       "      <th>3</th>\n",
       "      <td>JP</td>\n",
       "      <td>Japan</td>\n",
       "      <td>47</td>\n",
       "    </tr>\n",
       "    <tr>\n",
       "      <th>4</th>\n",
       "      <td>RO</td>\n",
       "      <td>Romania</td>\n",
       "      <td>42</td>\n",
       "    </tr>\n",
       "    <tr>\n",
       "      <th>5</th>\n",
       "      <td>NG</td>\n",
       "      <td>Nigeria</td>\n",
       "      <td>37</td>\n",
       "    </tr>\n",
       "    <tr>\n",
       "      <th>6</th>\n",
       "      <td>IN</td>\n",
       "      <td>India</td>\n",
       "      <td>36</td>\n",
       "    </tr>\n",
       "    <tr>\n",
       "      <th>7</th>\n",
       "      <td>ID</td>\n",
       "      <td>Indonesia</td>\n",
       "      <td>34</td>\n",
       "    </tr>\n",
       "    <tr>\n",
       "      <th>8</th>\n",
       "      <td>CO</td>\n",
       "      <td>Colombia</td>\n",
       "      <td>33</td>\n",
       "    </tr>\n",
       "    <tr>\n",
       "      <th>9</th>\n",
       "      <td>MX</td>\n",
       "      <td>Mexico</td>\n",
       "      <td>32</td>\n",
       "    </tr>\n",
       "  </tbody>\n",
       "</table>\n",
       "</div>"
      ],
      "text/plain": [
       "  country_code country_name  num_regions\n",
       "0           TR       Turkey           81\n",
       "1           TH     Thailand           77\n",
       "2           VN      Vietnam           63\n",
       "3           JP        Japan           47\n",
       "4           RO      Romania           42\n",
       "5           NG      Nigeria           37\n",
       "6           IN        India           36\n",
       "7           ID    Indonesia           34\n",
       "8           CO     Colombia           33\n",
       "9           MX       Mexico           32"
      ]
     },
     "execution_count": 15,
     "metadata": {},
     "output_type": "execute_result"
    }
   ],
   "source": [
    "%%bigquery\n",
    "SELECT\n",
    "  country_code,\n",
    "  country_name,\n",
    "  COUNT(DISTINCT region_code) AS num_regions\n",
    "FROM\n",
    "  `bigquery-public-data.google_trends.international_top_terms`\n",
    "WHERE\n",
    "  refresh_date = DATE_SUB(CURRENT_DATE, INTERVAL 1 DAY)\n",
    "GROUP BY\n",
    "  country_code,\n",
    "  country_name\n",
    "ORDER BY\n",
    "  num_regions DESC\n",
    "  LIMIT 10;"
   ]
  },
  {
   "cell_type": "code",
   "execution_count": 16,
   "id": "623f0cd6-a05f-412f-bdc2-5f0afcee7b84",
   "metadata": {
    "tags": []
   },
   "outputs": [
    {
     "data": {
      "application/json": {
       "ascii": false,
       "bar_format": "{l_bar}{bar}|",
       "colour": null,
       "elapsed": 0.00697016716003418,
       "initial": 0,
       "n": 0,
       "ncols": null,
       "nrows": null,
       "postfix": null,
       "prefix": "Query is running",
       "rate": null,
       "total": 1,
       "unit": "query",
       "unit_divisor": 1000,
       "unit_scale": false
      },
      "application/vnd.jupyter.widget-view+json": {
       "model_id": "ea79a2ef92c645899d263e6da565f88e",
       "version_major": 2,
       "version_minor": 0
      },
      "text/plain": [
       "Query is running:   0%|          |"
      ]
     },
     "metadata": {},
     "output_type": "display_data"
    },
    {
     "data": {
      "application/json": {
       "ascii": false,
       "bar_format": "{l_bar}{bar}|",
       "colour": null,
       "elapsed": 0.006806612014770508,
       "initial": 0,
       "n": 0,
       "ncols": null,
       "nrows": null,
       "postfix": null,
       "prefix": "Downloading",
       "rate": null,
       "total": 42,
       "unit": "rows",
       "unit_divisor": 1000,
       "unit_scale": false
      },
      "application/vnd.jupyter.widget-view+json": {
       "model_id": "7230a6daa5c74ccaac810ed3f70daf4b",
       "version_major": 2,
       "version_minor": 0
      },
      "text/plain": [
       "Downloading:   0%|          |"
      ]
     },
     "metadata": {},
     "output_type": "display_data"
    }
   ],
   "source": [
    "%%bigquery regions_by_country\n",
    "SELECT\n",
    "  country_code,\n",
    "  country_name,\n",
    "  COUNT(DISTINCT region_code) AS num_regions\n",
    "FROM\n",
    "  `bigquery-public-data.google_trends.international_top_terms`\n",
    "WHERE\n",
    "  refresh_date = DATE_SUB(CURRENT_DATE, INTERVAL 1 DAY)\n",
    "GROUP BY\n",
    "  country_code, country_name\n",
    "ORDER BY\n",
    "  num_regions DESC;"
   ]
  },
  {
   "cell_type": "code",
   "execution_count": 17,
   "id": "0c37135f-29e9-47a4-bb1b-a1d4eef75910",
   "metadata": {
    "tags": []
   },
   "outputs": [
    {
     "data": {
      "text/html": [
       "<div>\n",
       "<style scoped>\n",
       "    .dataframe tbody tr th:only-of-type {\n",
       "        vertical-align: middle;\n",
       "    }\n",
       "\n",
       "    .dataframe tbody tr th {\n",
       "        vertical-align: top;\n",
       "    }\n",
       "\n",
       "    .dataframe thead th {\n",
       "        text-align: right;\n",
       "    }\n",
       "</style>\n",
       "<table border=\"1\" class=\"dataframe\">\n",
       "  <thead>\n",
       "    <tr style=\"text-align: right;\">\n",
       "      <th></th>\n",
       "      <th>country_code</th>\n",
       "      <th>country_name</th>\n",
       "      <th>num_regions</th>\n",
       "    </tr>\n",
       "  </thead>\n",
       "  <tbody>\n",
       "    <tr>\n",
       "      <th>0</th>\n",
       "      <td>TR</td>\n",
       "      <td>Turkey</td>\n",
       "      <td>81</td>\n",
       "    </tr>\n",
       "    <tr>\n",
       "      <th>1</th>\n",
       "      <td>TH</td>\n",
       "      <td>Thailand</td>\n",
       "      <td>77</td>\n",
       "    </tr>\n",
       "    <tr>\n",
       "      <th>2</th>\n",
       "      <td>VN</td>\n",
       "      <td>Vietnam</td>\n",
       "      <td>63</td>\n",
       "    </tr>\n",
       "    <tr>\n",
       "      <th>3</th>\n",
       "      <td>JP</td>\n",
       "      <td>Japan</td>\n",
       "      <td>47</td>\n",
       "    </tr>\n",
       "    <tr>\n",
       "      <th>4</th>\n",
       "      <td>RO</td>\n",
       "      <td>Romania</td>\n",
       "      <td>42</td>\n",
       "    </tr>\n",
       "    <tr>\n",
       "      <th>5</th>\n",
       "      <td>NG</td>\n",
       "      <td>Nigeria</td>\n",
       "      <td>37</td>\n",
       "    </tr>\n",
       "    <tr>\n",
       "      <th>6</th>\n",
       "      <td>IN</td>\n",
       "      <td>India</td>\n",
       "      <td>36</td>\n",
       "    </tr>\n",
       "    <tr>\n",
       "      <th>7</th>\n",
       "      <td>ID</td>\n",
       "      <td>Indonesia</td>\n",
       "      <td>34</td>\n",
       "    </tr>\n",
       "    <tr>\n",
       "      <th>8</th>\n",
       "      <td>CO</td>\n",
       "      <td>Colombia</td>\n",
       "      <td>33</td>\n",
       "    </tr>\n",
       "    <tr>\n",
       "      <th>9</th>\n",
       "      <td>MX</td>\n",
       "      <td>Mexico</td>\n",
       "      <td>32</td>\n",
       "    </tr>\n",
       "  </tbody>\n",
       "</table>\n",
       "</div>"
      ],
      "text/plain": [
       "  country_code country_name  num_regions\n",
       "0           TR       Turkey           81\n",
       "1           TH     Thailand           77\n",
       "2           VN      Vietnam           63\n",
       "3           JP        Japan           47\n",
       "4           RO      Romania           42\n",
       "5           NG      Nigeria           37\n",
       "6           IN        India           36\n",
       "7           ID    Indonesia           34\n",
       "8           CO     Colombia           33\n",
       "9           MX       Mexico           32"
      ]
     },
     "execution_count": 17,
     "metadata": {},
     "output_type": "execute_result"
    }
   ],
   "source": [
    "regions_by_country.head(n=10)"
   ]
  },
  {
   "cell_type": "markdown",
   "id": "3fd7abff-6c1c-4a6b-987b-c0831798ec71",
   "metadata": {},
   "source": [
    "## Method 4 : Using the BigQuery python client library \n",
    "\n",
    "This is Method 3 of querying data that is stored in BigQuery from within the JupyterLab interface of your Vertex AI Workbench instance.\n",
    "\n",
    "For this method, it is required to use the IPython Jupyter Kernel that comes prepackaged with Vertex AI Workbench Instances. Please select & connect to it now.\n",
    "\n",
    "As per the example below, using the BigQuery client library involves: \n",
    "\n",
    "1. importing the library\n",
    "2. initialing a BigQuery client object\n",
    "3. defining your SQL query\n",
    "4. getting the BigQuery client object to execute SQL and return a pandas Dataframe\n",
    "5. with the returned pandas Dataframe you can use a number of Python data analysis, data wrangling, and visualization libraries\n",
    "\n",
    "\n",
    "\n",
    "Reference :\n",
    "\n",
    "https://cloud.google.com/vertex-ai/docs/workbench/instances/bigquery#query_data_by_using_the_client_library_directly\n",
    "\n",
    "\n"
   ]
  },
  {
   "cell_type": "code",
   "execution_count": 12,
   "id": "1a44edb7-75bd-4392-8191-aa3dda5f0b13",
   "metadata": {},
   "outputs": [],
   "source": [
    "from google.cloud import bigquery\n",
    "\n",
    "client = bigquery.Client()"
   ]
  },
  {
   "cell_type": "code",
   "execution_count": 13,
   "id": "13e850be-7740-424e-be81-e5191f61ad7f",
   "metadata": {
    "tags": []
   },
   "outputs": [
    {
     "data": {
      "text/html": [
       "<div>\n",
       "<style scoped>\n",
       "    .dataframe tbody tr th:only-of-type {\n",
       "        vertical-align: middle;\n",
       "    }\n",
       "\n",
       "    .dataframe tbody tr th {\n",
       "        vertical-align: top;\n",
       "    }\n",
       "\n",
       "    .dataframe thead th {\n",
       "        text-align: right;\n",
       "    }\n",
       "</style>\n",
       "<table border=\"1\" class=\"dataframe\">\n",
       "  <thead>\n",
       "    <tr style=\"text-align: right;\">\n",
       "      <th></th>\n",
       "      <th>days_apart</th>\n",
       "      <th>num_date_pairs</th>\n",
       "      <th>num_date1_terms</th>\n",
       "      <th>overlap_terms</th>\n",
       "      <th>pct_overlap_terms</th>\n",
       "    </tr>\n",
       "  </thead>\n",
       "  <tbody>\n",
       "    <tr>\n",
       "      <th>0</th>\n",
       "      <td>0</td>\n",
       "      <td>33</td>\n",
       "      <td>822</td>\n",
       "      <td>822</td>\n",
       "      <td>1.000000</td>\n",
       "    </tr>\n",
       "    <tr>\n",
       "      <th>1</th>\n",
       "      <td>1</td>\n",
       "      <td>31</td>\n",
       "      <td>775</td>\n",
       "      <td>1</td>\n",
       "      <td>0.001290</td>\n",
       "    </tr>\n",
       "    <tr>\n",
       "      <th>2</th>\n",
       "      <td>2</td>\n",
       "      <td>30</td>\n",
       "      <td>750</td>\n",
       "      <td>0</td>\n",
       "      <td>0.000000</td>\n",
       "    </tr>\n",
       "    <tr>\n",
       "      <th>3</th>\n",
       "      <td>3</td>\n",
       "      <td>29</td>\n",
       "      <td>725</td>\n",
       "      <td>0</td>\n",
       "      <td>0.000000</td>\n",
       "    </tr>\n",
       "    <tr>\n",
       "      <th>4</th>\n",
       "      <td>4</td>\n",
       "      <td>28</td>\n",
       "      <td>700</td>\n",
       "      <td>1</td>\n",
       "      <td>0.001429</td>\n",
       "    </tr>\n",
       "  </tbody>\n",
       "</table>\n",
       "</div>"
      ],
      "text/plain": [
       "   days_apart  num_date_pairs  num_date1_terms  overlap_terms  \\\n",
       "0           0              33              822            822   \n",
       "1           1              31              775              1   \n",
       "2           2              30              750              0   \n",
       "3           3              29              725              0   \n",
       "4           4              28              700              1   \n",
       "\n",
       "   pct_overlap_terms  \n",
       "0           1.000000  \n",
       "1           0.001290  \n",
       "2           0.000000  \n",
       "3           0.000000  \n",
       "4           0.001429  "
      ]
     },
     "execution_count": 13,
     "metadata": {},
     "output_type": "execute_result"
    }
   ],
   "source": [
    "sql = \"\"\"\n",
    "WITH\n",
    "  TopTermsByDate AS (\n",
    "    SELECT DISTINCT refresh_date AS date, term\n",
    "    FROM `bigquery-public-data.google_trends.top_terms`\n",
    "  ),\n",
    "  DistinctDates AS (\n",
    "    SELECT DISTINCT date\n",
    "    FROM TopTermsByDate\n",
    "  )\n",
    "SELECT\n",
    "  DATE_DIFF(Dates2.date, Date1Terms.date, DAY)\n",
    "    AS days_apart,\n",
    "  COUNT(DISTINCT (Dates2.date || Date1Terms.date))\n",
    "    AS num_date_pairs,\n",
    "  COUNT(Date1Terms.term) AS num_date1_terms,\n",
    "  SUM(IF(Date2Terms.term IS NOT NULL, 1, 0))\n",
    "    AS overlap_terms,\n",
    "  SAFE_DIVIDE(\n",
    "    SUM(IF(Date2Terms.term IS NOT NULL, 1, 0)),\n",
    "    COUNT(Date1Terms.term)\n",
    "    ) AS pct_overlap_terms\n",
    "FROM\n",
    "  TopTermsByDate AS Date1Terms\n",
    "CROSS JOIN\n",
    "  DistinctDates AS Dates2\n",
    "LEFT JOIN\n",
    "  TopTermsByDate AS Date2Terms\n",
    "  ON\n",
    "    Dates2.date = Date2Terms.date\n",
    "    AND Date1Terms.term = Date2Terms.term\n",
    "WHERE\n",
    "  Date1Terms.date <= Dates2.date\n",
    "GROUP BY\n",
    "  days_apart\n",
    "\n",
    "ORDER BY\n",
    "  days_apart;\n",
    "\"\"\"\n",
    "pct_overlap_terms_by_days_apart = client.query(sql).to_dataframe()\n",
    "\n",
    "pct_overlap_terms_by_days_apart.head()"
   ]
  },
  {
   "cell_type": "markdown",
   "id": "7c563e2b-ef6b-4882-bed8-feb9691ccdc5",
   "metadata": {
    "tags": []
   },
   "source": [
    "## Method 5 : Using the BigQuery integration into Vertex AI workbench\n",
    "\n",
    "This is Method 4 of querying data that is stored in BigQuery from within the JupyterLab interface of your Vertex AI Workbench instance.\n",
    "\n",
    "The In-cell BigQuery query editor is a cell type that you can use within your notebook files.\n",
    "\n",
    "Select the BigQuery icon on a given cell to launc the In-cell BigQuery query editor. \n",
    "\n",
    "Reference : \n",
    "\n",
    "https://cloud.google.com/vertex-ai/docs/workbench/instances/bigquery#in-cell\n",
    "\n"
   ]
  },
  {
   "cell_type": "markdown",
   "id": "092b287a-f8a6-4d27-8a09-302026117973",
   "metadata": {},
   "source": [
    "## Method 6 : Use BigQuery DataFrames aka \"BigFrames\" to super charge pandas workloads\n",
    "\n",
    "This is Method 6 of querying data that is stored in BigQuery from within the JupyterLab interface of your Vertex AI Workbench instance.\n",
    "\n",
    "For this method, it is required to use the IPython Jupyter Kernel that comes prepackaged with Vertex AI Workbench Instances. Please select & connect to it now.\n",
    "\n",
    "BigQuery DataFrames provides a Python library **bigframes.pandas** which provides a pandas-compatible API for analytics. \n",
    "\n",
    "Through this library you take advantage of BigQuery data processing by using familiar pandas python APIs. BigQuery DataFrames provides a Pythonic DataFrame powered by the BigQuery engine, and it implements the pandas  APIs by pushing the processing down to BigQuery through SQL conversion. This lets you use BigQuery to explore and process terabytes of data with Python APIs.\n",
    "\n",
    "\n",
    "Reference : \n",
    "\n",
    "https://cloud.google.com/bigquery/docs/bigquery-dataframes-introduction\n",
    "\n",
    "https://cloud.google.com/bigquery/docs/use-bigquery-dataframes\n",
    "\n",
    "https://github.com/googleapis/python-bigquery-dataframes/tree/main/notebooks\n"
   ]
  },
  {
   "cell_type": "code",
   "execution_count": null,
   "id": "68470cab-fe14-4c69-b02c-3f6ba23b6da9",
   "metadata": {},
   "outputs": [],
   "source": [
    "# https://jakevdp.github.io/blog/2017/12/05/installing-python-packages-from-jupyter/\n",
    "# Install a pip package in the current Jupyter kernel\n",
    "# here the package is bigframes https://pypi.org/project/bigframes/\n",
    "import sys\n",
    "!{sys.executable} -m pip install bigframes"
   ]
  },
  {
   "cell_type": "code",
   "execution_count": 15,
   "id": "604b9b28-d1c5-4116-bdb7-fe00892ca759",
   "metadata": {},
   "outputs": [
    {
     "name": "stdout",
     "output_type": "stream",
     "text": [
      "step 1-of-3 :: loading data from BigQuery\n"
     ]
    },
    {
     "data": {
      "text/html": [
       "Query job eee55140-ba79-4fad-a794-3a970f4712ea is DONE. 0 Bytes processed. <a target=\"_blank\" href=\"https://console.cloud.google.com/bigquery?project=zaro-joonix-net-prj-data-batch&j=bq:US:eee55140-ba79-4fad-a794-3a970f4712ea&page=queryresults\">Open Job</a>"
      ],
      "text/plain": [
       "<IPython.core.display.HTML object>"
      ]
     },
     "metadata": {},
     "output_type": "display_data"
    },
    {
     "name": "stdout",
     "output_type": "stream",
     "text": [
      "step 2-of-3 :: computing mean of body_mass_g column\n"
     ]
    },
    {
     "data": {
      "text/html": [
       "Query job 0d12ad69-b1b8-4ec7-9d90-67865323a3e2 is DONE. 2.7 kB processed. <a target=\"_blank\" href=\"https://console.cloud.google.com/bigquery?project=zaro-joonix-net-prj-data-batch&j=bq:US:0d12ad69-b1b8-4ec7-9d90-67865323a3e2&page=queryresults\">Open Job</a>"
      ],
      "text/plain": [
       "<IPython.core.display.HTML object>"
      ]
     },
     "metadata": {},
     "output_type": "display_data"
    },
    {
     "name": "stdout",
     "output_type": "stream",
     "text": [
      "average_body_mass: 4201.754385964914\n",
      "step 3-of-3 :: computing top speciees by mean body_mass_g\n"
     ]
    },
    {
     "data": {
      "text/html": [
       "Query job 5e462aa8-45d8-4c5c-bbf9-beb2ffd91953 is DONE. 15.6 kB processed. <a target=\"_blank\" href=\"https://console.cloud.google.com/bigquery?project=zaro-joonix-net-prj-data-batch&j=bq:US:5e462aa8-45d8-4c5c-bbf9-beb2ffd91953&page=queryresults\">Open Job</a>"
      ],
      "text/plain": [
       "<IPython.core.display.HTML object>"
      ]
     },
     "metadata": {},
     "output_type": "display_data"
    },
    {
     "data": {
      "text/html": [
       "Query job 27542afe-db6d-498f-b33f-d863c9e6aaab is DONE. 163 Bytes processed. <a target=\"_blank\" href=\"https://console.cloud.google.com/bigquery?project=zaro-joonix-net-prj-data-batch&j=bq:US:27542afe-db6d-498f-b33f-d863c9e6aaab&page=queryresults\">Open Job</a>"
      ],
      "text/plain": [
       "<IPython.core.display.HTML object>"
      ]
     },
     "metadata": {},
     "output_type": "display_data"
    },
    {
     "data": {
      "text/plain": [
       "species\n",
       "Gentoo penguin (Pygoscelis papua)             5076.01626\n",
       "Chinstrap penguin (Pygoscelis antarctica)    3733.088235\n",
       "Adelie Penguin (Pygoscelis adeliae)          3700.662252\n",
       "Name: body_mass_g, dtype: Float64"
      ]
     },
     "execution_count": 15,
     "metadata": {},
     "output_type": "execute_result"
    }
   ],
   "source": [
    "import bigframes.pandas as bpd\n",
    "\n",
    "# import warnings filter & ignore all future warnings\n",
    "# this is for teaching purposes only, to avoid FutureWarnings to do with bigframe compiler implementation\n",
    "from warnings import simplefilter\n",
    "simplefilter(action='ignore', category=FutureWarning)\n",
    "\n",
    "# Load data from BigQuery\n",
    "print(\"step 1-of-3 :: loading data from BigQuery\")\n",
    "query_or_table = \"bigquery-public-data.ml_datasets.penguins\"\n",
    "bq_df = bpd.read_gbq(query_or_table, use_cache=False)\n",
    "\n",
    "# Compute the mean of this body mass across all species:\n",
    "print(\"step 2-of-3 :: computing mean of body_mass_g column\")\n",
    "average_body_mass = bq_df[\"body_mass_g\"].mean()\n",
    "print(f\"average_body_mass: {average_body_mass}\")\n",
    "\n",
    "# Find the heaviest species using the groupby operation to calculate the\n",
    "# mean body_mass_g:\n",
    "print(\"step 3-of-3 :: computing top speciees by mean body_mass_g\")\n",
    "(\n",
    "    bq_df[\"body_mass_g\"]\n",
    "    .groupby(by=bq_df[\"species\"])\n",
    "    .mean()\n",
    "    .sort_values(ascending=False)\n",
    "    .head(10)\n",
    ")"
   ]
  },
  {
   "cell_type": "markdown",
   "id": "f4f93b32-137b-46f6-9859-82445e8bed8e",
   "metadata": {},
   "source": [
    "## Method 7 :  convert numerical to categorical variable\n",
    "\n",
    "A common task in an analysis is to convert a numerical variable into a categorical variable. \n",
    "\n",
    "In this section we explore how this can be achieved using BigFrames."
   ]
  },
  {
   "cell_type": "code",
   "execution_count": null,
   "id": "5d487418-bfc6-4937-9f2c-1c4fa3c5e07e",
   "metadata": {
    "tags": []
   },
   "outputs": [],
   "source": [
    "# Install BigFrames\n",
    "# https://jakevdp.github.io/blog/2017/12/05/installing-python-packages-from-jupyter/\n",
    "# Install a pip package in the current Jupyter kernel\n",
    "# here the package is bigframes https://pypi.org/project/bigframes/\n",
    "import sys\n",
    "!{sys.executable} -m pip install bigframes"
   ]
  },
  {
   "cell_type": "code",
   "execution_count": 19,
   "id": "611edc09-2e14-4c45-8911-fbdfa06f583d",
   "metadata": {
    "tags": []
   },
   "outputs": [],
   "source": [
    "# Import the BigFrames pandas module\n",
    "import bigframes.pandas as bpd\n",
    "\n",
    "# The BigFrames.bigquery module provides many BigQuery SQL functions which may not have a pandas-equivalent.\n",
    "# https://cloud.google.com/bigquery/docs/use-bigquery-dataframes\n",
    "import bigframes.bigquery\n",
    "\n",
    "# import warnings filter & ignore all future warnings\n",
    "# this is for teaching purposes only, to avoid FutureWarnings to do with bigframe compiler implementation\n",
    "from warnings import simplefilter\n",
    "simplefilter(action='ignore', category=FutureWarning)"
   ]
  },
  {
   "cell_type": "code",
   "execution_count": 20,
   "id": "748da417-2518-498f-9db4-27b05cf9e4ed",
   "metadata": {
    "tags": []
   },
   "outputs": [
    {
     "name": "stdout",
     "output_type": "stream",
     "text": [
      "step 1-of-3 :: loading data from BigQuery\n",
      "step 2-of-3 :: computing mean of body_mass_g column\n"
     ]
    },
    {
     "data": {
      "text/html": [
       "Query job cf8ba1b2-0925-482d-86b2-37be8885d878 is DONE. 2.7 kB processed. <a target=\"_blank\" href=\"https://console.cloud.google.com/bigquery?project=zaro-joonix-net-prj-data-batch&j=bq:US:cf8ba1b2-0925-482d-86b2-37be8885d878&page=queryresults\">Open Job</a>"
      ],
      "text/plain": [
       "<IPython.core.display.HTML object>"
      ]
     },
     "metadata": {},
     "output_type": "display_data"
    },
    {
     "data": {
      "text/plain": [
       "4201.754385964914"
      ]
     },
     "execution_count": 20,
     "metadata": {},
     "output_type": "execute_result"
    }
   ],
   "source": [
    "# Load data from BigQuery\n",
    "print(\"step 1-of-3 :: loading data from BigQuery\")\n",
    "query_or_table = \"bigquery-public-data.ml_datasets.penguins\"\n",
    "bq_df = bpd.read_gbq(query_or_table, use_cache=False)\n",
    "\n",
    "# Compute the mean of this body mass across all species:\n",
    "print(\"step 2-of-3 :: computing mean of body_mass_g column\")\n",
    "average_body_mass = bq_df[\"body_mass_g\"].mean()\n",
    "\n",
    "average_body_mass"
   ]
  },
  {
   "cell_type": "code",
   "execution_count": 21,
   "id": "22dedc68-0ece-4bc7-837b-ada390bdc97d",
   "metadata": {},
   "outputs": [
    {
     "data": {
      "text/html": [
       "Query job 50b21673-45c2-48ed-bb3c-3424d399e310 is DONE. 28.9 kB processed. <a target=\"_blank\" href=\"https://console.cloud.google.com/bigquery?project=zaro-joonix-net-prj-data-batch&j=bq:US:50b21673-45c2-48ed-bb3c-3424d399e310&page=queryresults\">Open Job</a>"
      ],
      "text/plain": [
       "<IPython.core.display.HTML object>"
      ]
     },
     "metadata": {},
     "output_type": "display_data"
    },
    {
     "data": {
      "text/html": [
       "<div>\n",
       "<style scoped>\n",
       "    .dataframe tbody tr th:only-of-type {\n",
       "        vertical-align: middle;\n",
       "    }\n",
       "\n",
       "    .dataframe tbody tr th {\n",
       "        vertical-align: top;\n",
       "    }\n",
       "\n",
       "    .dataframe thead th {\n",
       "        text-align: right;\n",
       "    }\n",
       "</style>\n",
       "<table border=\"1\" class=\"dataframe\">\n",
       "  <thead>\n",
       "    <tr style=\"text-align: right;\">\n",
       "      <th></th>\n",
       "      <th>species</th>\n",
       "      <th>island</th>\n",
       "      <th>culmen_length_mm</th>\n",
       "      <th>culmen_depth_mm</th>\n",
       "      <th>flipper_length_mm</th>\n",
       "      <th>body_mass_g</th>\n",
       "      <th>sex</th>\n",
       "    </tr>\n",
       "  </thead>\n",
       "  <tbody>\n",
       "    <tr>\n",
       "      <th>0</th>\n",
       "      <td>Gentoo penguin (Pygoscelis papua)</td>\n",
       "      <td>Biscoe</td>\n",
       "      <td>45.2</td>\n",
       "      <td>16.4</td>\n",
       "      <td>223.0</td>\n",
       "      <td>5950.0</td>\n",
       "      <td>MALE</td>\n",
       "    </tr>\n",
       "    <tr>\n",
       "      <th>1</th>\n",
       "      <td>Gentoo penguin (Pygoscelis papua)</td>\n",
       "      <td>Biscoe</td>\n",
       "      <td>46.5</td>\n",
       "      <td>14.5</td>\n",
       "      <td>213.0</td>\n",
       "      <td>4400.0</td>\n",
       "      <td>FEMALE</td>\n",
       "    </tr>\n",
       "    <tr>\n",
       "      <th>2</th>\n",
       "      <td>Adelie Penguin (Pygoscelis adeliae)</td>\n",
       "      <td>Biscoe</td>\n",
       "      <td>37.7</td>\n",
       "      <td>16.0</td>\n",
       "      <td>183.0</td>\n",
       "      <td>3075.0</td>\n",
       "      <td>FEMALE</td>\n",
       "    </tr>\n",
       "  </tbody>\n",
       "</table>\n",
       "<p>3 rows × 7 columns</p>\n",
       "</div>[3 rows x 7 columns in total]"
      ],
      "text/plain": [
       "                               species  island  culmen_length_mm  \\\n",
       "0    Gentoo penguin (Pygoscelis papua)  Biscoe              45.2   \n",
       "1    Gentoo penguin (Pygoscelis papua)  Biscoe              46.5   \n",
       "2  Adelie Penguin (Pygoscelis adeliae)  Biscoe              37.7   \n",
       "\n",
       "   culmen_depth_mm  flipper_length_mm  body_mass_g     sex  \n",
       "0             16.4              223.0       5950.0    MALE  \n",
       "1             14.5              213.0       4400.0  FEMALE  \n",
       "2             16.0              183.0       3075.0  FEMALE  \n",
       "\n",
       "[3 rows x 7 columns]"
      ]
     },
     "execution_count": 21,
     "metadata": {},
     "output_type": "execute_result"
    }
   ],
   "source": [
    "# Inspect the numerical column \"body_mass_g\"\n",
    "bq_df.head(n=3)"
   ]
  },
  {
   "cell_type": "markdown",
   "id": "1f740e7f-c9e9-406f-9fe5-dfc1dc9b1750",
   "metadata": {},
   "source": [
    "### Approach 1 use BigQuery SQL snippet"
   ]
  },
  {
   "cell_type": "code",
   "execution_count": 23,
   "id": "e1cf7929-caac-473a-ba2e-e2b9c568499d",
   "metadata": {},
   "outputs": [],
   "source": [
    "# Create a new column whichs converts this numeric column to a categorical variable\n",
    "bq_df[\"weight_category\"] = bigframes.bigquery.sql_scalar(\n",
    "    \"IF({0} >= 4201, 'gte', 'le')\",\n",
    "    columns=[bq_df['body_mass_g']],\n",
    ")"
   ]
  },
  {
   "cell_type": "code",
   "execution_count": 24,
   "id": "e8d66d96-6b4c-4eb6-b0b2-86e08820b3cf",
   "metadata": {
    "tags": []
   },
   "outputs": [
    {
     "data": {
      "text/html": [
       "Query job eaf87f81-14a0-481e-af77-93474d056fc7 is DONE. 28.9 kB processed. <a target=\"_blank\" href=\"https://console.cloud.google.com/bigquery?project=zaro-joonix-net-prj-data-batch&j=bq:US:eaf87f81-14a0-481e-af77-93474d056fc7&page=queryresults\">Open Job</a>"
      ],
      "text/plain": [
       "<IPython.core.display.HTML object>"
      ]
     },
     "metadata": {},
     "output_type": "display_data"
    },
    {
     "data": {
      "text/html": [
       "<div>\n",
       "<style scoped>\n",
       "    .dataframe tbody tr th:only-of-type {\n",
       "        vertical-align: middle;\n",
       "    }\n",
       "\n",
       "    .dataframe tbody tr th {\n",
       "        vertical-align: top;\n",
       "    }\n",
       "\n",
       "    .dataframe thead th {\n",
       "        text-align: right;\n",
       "    }\n",
       "</style>\n",
       "<table border=\"1\" class=\"dataframe\">\n",
       "  <thead>\n",
       "    <tr style=\"text-align: right;\">\n",
       "      <th></th>\n",
       "      <th>species</th>\n",
       "      <th>island</th>\n",
       "      <th>culmen_length_mm</th>\n",
       "      <th>culmen_depth_mm</th>\n",
       "      <th>flipper_length_mm</th>\n",
       "      <th>body_mass_g</th>\n",
       "      <th>sex</th>\n",
       "      <th>weight_category</th>\n",
       "    </tr>\n",
       "  </thead>\n",
       "  <tbody>\n",
       "    <tr>\n",
       "      <th>0</th>\n",
       "      <td>Gentoo penguin (Pygoscelis papua)</td>\n",
       "      <td>Biscoe</td>\n",
       "      <td>45.2</td>\n",
       "      <td>16.4</td>\n",
       "      <td>223.0</td>\n",
       "      <td>5950.0</td>\n",
       "      <td>MALE</td>\n",
       "      <td>gte</td>\n",
       "    </tr>\n",
       "    <tr>\n",
       "      <th>1</th>\n",
       "      <td>Gentoo penguin (Pygoscelis papua)</td>\n",
       "      <td>Biscoe</td>\n",
       "      <td>46.5</td>\n",
       "      <td>14.5</td>\n",
       "      <td>213.0</td>\n",
       "      <td>4400.0</td>\n",
       "      <td>FEMALE</td>\n",
       "      <td>gte</td>\n",
       "    </tr>\n",
       "    <tr>\n",
       "      <th>2</th>\n",
       "      <td>Adelie Penguin (Pygoscelis adeliae)</td>\n",
       "      <td>Biscoe</td>\n",
       "      <td>37.7</td>\n",
       "      <td>16.0</td>\n",
       "      <td>183.0</td>\n",
       "      <td>3075.0</td>\n",
       "      <td>FEMALE</td>\n",
       "      <td>le</td>\n",
       "    </tr>\n",
       "  </tbody>\n",
       "</table>\n",
       "<p>3 rows × 8 columns</p>\n",
       "</div>[3 rows x 8 columns in total]"
      ],
      "text/plain": [
       "                               species  island  culmen_length_mm  \\\n",
       "0    Gentoo penguin (Pygoscelis papua)  Biscoe              45.2   \n",
       "1    Gentoo penguin (Pygoscelis papua)  Biscoe              46.5   \n",
       "2  Adelie Penguin (Pygoscelis adeliae)  Biscoe              37.7   \n",
       "\n",
       "   culmen_depth_mm  flipper_length_mm  body_mass_g     sex weight_category  \n",
       "0             16.4              223.0       5950.0    MALE             gte  \n",
       "1             14.5              213.0       4400.0  FEMALE             gte  \n",
       "2             16.0              183.0       3075.0  FEMALE              le  \n",
       "\n",
       "[3 rows x 8 columns]"
      ]
     },
     "execution_count": 24,
     "metadata": {},
     "output_type": "execute_result"
    }
   ],
   "source": [
    "# Inspect the numerical column \"body_mass_g\" alongside the new column \"weight_category\"\n",
    "bq_df.head(n=3)"
   ]
  },
  {
   "cell_type": "markdown",
   "id": "faad1dd0-e0d4-4790-96d5-412a527ef683",
   "metadata": {},
   "source": [
    "## Method 8 : Cross tabulating categorical variables\n",
    "\n",
    "A common task in an analysis is to cross tabulate two or more categorical variables to explore relationships between them (1)\n",
    "\n",
    "1. https://en.wikipedia.org/wiki/Contingency_table\n",
    "\n",
    "This sections explores how this can be done with BigQuery\n",
    "\n",
    "\n"
   ]
  },
  {
   "cell_type": "markdown",
   "id": "4a0baeb7-9f35-450d-83d3-8fe9864183a9",
   "metadata": {},
   "source": [
    "### Approach 1 : BigQuery SQL query then vanilla pandas functions\n",
    "\n",
    "We are using the BigQuery public dataset to do with Chicago crimes\n",
    " * bigquery-public-data.chicago_crime.crime\n",
    " * ~8,000,000 rows\n",
    " * ~2GB in size\n",
    " \n",
    "Given this size of this table we do not want to simply load the entire table into a local pandas dataframe in the notebook!  \n",
    "\n",
    "Instead we want to push work to bigquery to query these millions of rows to compute the counts of possible combination of two categorical varaibles\n",
    " * location_description (where the crime took place, a string)\n",
    " * primary_type (the kind of crime that took place, a string)\n",
    " \n",
    "We save the outpue of this BigQuery query into a local pandas dataframe, which is much smaller than the bigquery table\n",
    " * chicago_crime_pddf\n",
    " * 69 rows ! \n",
    " \n",
    "We then use built-in pandas functionality on this small in memory dataframe to compute the cross table of the categorical variables as well as \"margin\" totals & normalize to get probabilities (1)\n",
    "\n",
    "This \n",
    "\n",
    "1. https://pandas.pydata.org/docs/reference/api/pandas.crosstab.html"
   ]
  },
  {
   "cell_type": "code",
   "execution_count": 32,
   "id": "815eb980-a47f-4ffb-b4b7-348a43aa3ef5",
   "metadata": {
    "tags": []
   },
   "outputs": [],
   "source": [
    "# Import pandas\n",
    "import pandas as pd"
   ]
  },
  {
   "cell_type": "code",
   "execution_count": 33,
   "id": "431c2c46-fc95-463d-a249-315d3ed475d4",
   "metadata": {
    "tags": []
   },
   "outputs": [
    {
     "data": {
      "application/json": {
       "ascii": false,
       "bar_format": "{l_bar}{bar}|",
       "colour": null,
       "elapsed": 0.006567478179931641,
       "initial": 0,
       "n": 0,
       "ncols": null,
       "nrows": null,
       "postfix": null,
       "prefix": "Query is running",
       "rate": null,
       "total": 1,
       "unit": "query",
       "unit_divisor": 1000,
       "unit_scale": false
      },
      "application/vnd.jupyter.widget-view+json": {
       "model_id": "043ae947468f4b72967bc3b32528a12d",
       "version_major": 2,
       "version_minor": 0
      },
      "text/plain": [
       "Query is running:   0%|          |"
      ]
     },
     "metadata": {},
     "output_type": "display_data"
    },
    {
     "data": {
      "application/json": {
       "ascii": false,
       "bar_format": "{l_bar}{bar}|",
       "colour": null,
       "elapsed": 0.006074428558349609,
       "initial": 0,
       "n": 0,
       "ncols": null,
       "nrows": null,
       "postfix": null,
       "prefix": "Downloading",
       "rate": null,
       "total": 69,
       "unit": "rows",
       "unit_divisor": 1000,
       "unit_scale": false
      },
      "application/vnd.jupyter.widget-view+json": {
       "model_id": "409a0c20f4094154b4e718e36fb8d2fe",
       "version_major": 2,
       "version_minor": 0
      },
      "text/plain": [
       "Downloading:   0%|          |"
      ]
     },
     "metadata": {},
     "output_type": "display_data"
    }
   ],
   "source": [
    "%%bigquery chicago_crime_pddf\n",
    "SELECT\n",
    "  primary_type,\n",
    "  location_description,\n",
    "  COUNT(*) as crime_count\n",
    "FROM\n",
    "  `bigquery-public-data.chicago_crime.crime`\n",
    "WHERE \n",
    "  location_description in (\"STREET\", \"RESIDENCE\")\n",
    "GROUP BY\n",
    "  1,\n",
    "  2;"
   ]
  },
  {
   "cell_type": "code",
   "execution_count": 34,
   "id": "274bef34-af44-4724-9559-afbdb950c251",
   "metadata": {
    "tags": []
   },
   "outputs": [
    {
     "data": {
      "text/html": [
       "<div>\n",
       "<style scoped>\n",
       "    .dataframe tbody tr th:only-of-type {\n",
       "        vertical-align: middle;\n",
       "    }\n",
       "\n",
       "    .dataframe tbody tr th {\n",
       "        vertical-align: top;\n",
       "    }\n",
       "\n",
       "    .dataframe thead th {\n",
       "        text-align: right;\n",
       "    }\n",
       "</style>\n",
       "<table border=\"1\" class=\"dataframe\">\n",
       "  <thead>\n",
       "    <tr style=\"text-align: right;\">\n",
       "      <th></th>\n",
       "      <th>primary_type</th>\n",
       "      <th>location_description</th>\n",
       "      <th>crime_count</th>\n",
       "    </tr>\n",
       "  </thead>\n",
       "  <tbody>\n",
       "    <tr>\n",
       "      <th>0</th>\n",
       "      <td>BURGLARY</td>\n",
       "      <td>RESIDENCE</td>\n",
       "      <td>144748</td>\n",
       "    </tr>\n",
       "    <tr>\n",
       "      <th>1</th>\n",
       "      <td>THEFT</td>\n",
       "      <td>STREET</td>\n",
       "      <td>471771</td>\n",
       "    </tr>\n",
       "    <tr>\n",
       "      <th>2</th>\n",
       "      <td>CRIMINAL DAMAGE</td>\n",
       "      <td>STREET</td>\n",
       "      <td>340760</td>\n",
       "    </tr>\n",
       "    <tr>\n",
       "      <th>3</th>\n",
       "      <td>PROSTITUTION</td>\n",
       "      <td>STREET</td>\n",
       "      <td>58301</td>\n",
       "    </tr>\n",
       "    <tr>\n",
       "      <th>4</th>\n",
       "      <td>CRIMINAL TRESPASS</td>\n",
       "      <td>STREET</td>\n",
       "      <td>11705</td>\n",
       "    </tr>\n",
       "    <tr>\n",
       "      <th>...</th>\n",
       "      <td>...</td>\n",
       "      <td>...</td>\n",
       "      <td>...</td>\n",
       "    </tr>\n",
       "    <tr>\n",
       "      <th>64</th>\n",
       "      <td>INTERFERENCE WITH PUBLIC OFFICER</td>\n",
       "      <td>RESIDENCE</td>\n",
       "      <td>524</td>\n",
       "    </tr>\n",
       "    <tr>\n",
       "      <th>65</th>\n",
       "      <td>CONCEALED CARRY LICENSE VIOLATION</td>\n",
       "      <td>STREET</td>\n",
       "      <td>610</td>\n",
       "    </tr>\n",
       "    <tr>\n",
       "      <th>66</th>\n",
       "      <td>PUBLIC INDECENCY</td>\n",
       "      <td>STREET</td>\n",
       "      <td>17</td>\n",
       "    </tr>\n",
       "    <tr>\n",
       "      <th>67</th>\n",
       "      <td>OTHER NARCOTIC VIOLATION</td>\n",
       "      <td>RESIDENCE</td>\n",
       "      <td>3</td>\n",
       "    </tr>\n",
       "    <tr>\n",
       "      <th>68</th>\n",
       "      <td>CONCEALED CARRY LICENSE VIOLATION</td>\n",
       "      <td>RESIDENCE</td>\n",
       "      <td>1</td>\n",
       "    </tr>\n",
       "  </tbody>\n",
       "</table>\n",
       "<p>69 rows × 3 columns</p>\n",
       "</div>"
      ],
      "text/plain": [
       "                         primary_type location_description  crime_count\n",
       "0                            BURGLARY            RESIDENCE       144748\n",
       "1                               THEFT               STREET       471771\n",
       "2                     CRIMINAL DAMAGE               STREET       340760\n",
       "3                        PROSTITUTION               STREET        58301\n",
       "4                   CRIMINAL TRESPASS               STREET        11705\n",
       "..                                ...                  ...          ...\n",
       "64   INTERFERENCE WITH PUBLIC OFFICER            RESIDENCE          524\n",
       "65  CONCEALED CARRY LICENSE VIOLATION               STREET          610\n",
       "66                   PUBLIC INDECENCY               STREET           17\n",
       "67           OTHER NARCOTIC VIOLATION            RESIDENCE            3\n",
       "68  CONCEALED CARRY LICENSE VIOLATION            RESIDENCE            1\n",
       "\n",
       "[69 rows x 3 columns]"
      ]
     },
     "execution_count": 34,
     "metadata": {},
     "output_type": "execute_result"
    }
   ],
   "source": [
    "chicago_crime_pddf"
   ]
  },
  {
   "cell_type": "code",
   "execution_count": 36,
   "id": "c6530e9e-cbee-4e7c-b394-9a03307099af",
   "metadata": {
    "tags": []
   },
   "outputs": [
    {
     "data": {
      "text/html": [
       "<div>\n",
       "<style scoped>\n",
       "    .dataframe tbody tr th:only-of-type {\n",
       "        vertical-align: middle;\n",
       "    }\n",
       "\n",
       "    .dataframe tbody tr th {\n",
       "        vertical-align: top;\n",
       "    }\n",
       "\n",
       "    .dataframe thead th {\n",
       "        text-align: right;\n",
       "    }\n",
       "</style>\n",
       "<table border=\"1\" class=\"dataframe\">\n",
       "  <thead>\n",
       "    <tr style=\"text-align: right;\">\n",
       "      <th>location_description</th>\n",
       "      <th>RESIDENCE</th>\n",
       "      <th>STREET</th>\n",
       "      <th>All</th>\n",
       "    </tr>\n",
       "    <tr>\n",
       "      <th>primary_type</th>\n",
       "      <th></th>\n",
       "      <th></th>\n",
       "      <th></th>\n",
       "    </tr>\n",
       "  </thead>\n",
       "  <tbody>\n",
       "    <tr>\n",
       "      <th>ARSON</th>\n",
       "      <td>2534</td>\n",
       "      <td>1167</td>\n",
       "      <td>3701</td>\n",
       "    </tr>\n",
       "    <tr>\n",
       "      <th>ASSAULT</th>\n",
       "      <td>91559</td>\n",
       "      <td>112037</td>\n",
       "      <td>203596</td>\n",
       "    </tr>\n",
       "    <tr>\n",
       "      <th>BATTERY</th>\n",
       "      <td>306830</td>\n",
       "      <td>258273</td>\n",
       "      <td>565103</td>\n",
       "    </tr>\n",
       "    <tr>\n",
       "      <th>BURGLARY</th>\n",
       "      <td>144748</td>\n",
       "      <td>2080</td>\n",
       "      <td>146828</td>\n",
       "    </tr>\n",
       "    <tr>\n",
       "      <th>CONCEALED CARRY LICENSE VIOLATION</th>\n",
       "      <td>1</td>\n",
       "      <td>610</td>\n",
       "      <td>611</td>\n",
       "    </tr>\n",
       "    <tr>\n",
       "      <th>CRIM SEXUAL ASSAULT</th>\n",
       "      <td>8906</td>\n",
       "      <td>1280</td>\n",
       "      <td>10186</td>\n",
       "    </tr>\n",
       "    <tr>\n",
       "      <th>CRIMINAL DAMAGE</th>\n",
       "      <td>171784</td>\n",
       "      <td>340760</td>\n",
       "      <td>512544</td>\n",
       "    </tr>\n",
       "    <tr>\n",
       "      <th>CRIMINAL SEXUAL ASSAULT</th>\n",
       "      <td>2449</td>\n",
       "      <td>509</td>\n",
       "      <td>2958</td>\n",
       "    </tr>\n",
       "    <tr>\n",
       "      <th>CRIMINAL TRESPASS</th>\n",
       "      <td>28549</td>\n",
       "      <td>11705</td>\n",
       "      <td>40254</td>\n",
       "    </tr>\n",
       "    <tr>\n",
       "      <th>DECEPTIVE PRACTICE</th>\n",
       "      <td>109344</td>\n",
       "      <td>23853</td>\n",
       "      <td>133197</td>\n",
       "    </tr>\n",
       "    <tr>\n",
       "      <th>GAMBLING</th>\n",
       "      <td>108</td>\n",
       "      <td>1770</td>\n",
       "      <td>1878</td>\n",
       "    </tr>\n",
       "    <tr>\n",
       "      <th>HOMICIDE</th>\n",
       "      <td>3</td>\n",
       "      <td>6907</td>\n",
       "      <td>6910</td>\n",
       "    </tr>\n",
       "    <tr>\n",
       "      <th>HUMAN TRAFFICKING</th>\n",
       "      <td>50</td>\n",
       "      <td>13</td>\n",
       "      <td>63</td>\n",
       "    </tr>\n",
       "    <tr>\n",
       "      <th>INTERFERENCE WITH PUBLIC OFFICER</th>\n",
       "      <td>524</td>\n",
       "      <td>9770</td>\n",
       "      <td>10294</td>\n",
       "    </tr>\n",
       "    <tr>\n",
       "      <th>INTIMIDATION</th>\n",
       "      <td>1466</td>\n",
       "      <td>712</td>\n",
       "      <td>2178</td>\n",
       "    </tr>\n",
       "    <tr>\n",
       "      <th>KIDNAPPING</th>\n",
       "      <td>1808</td>\n",
       "      <td>2148</td>\n",
       "      <td>3956</td>\n",
       "    </tr>\n",
       "    <tr>\n",
       "      <th>LIQUOR LAW VIOLATION</th>\n",
       "      <td>281</td>\n",
       "      <td>2769</td>\n",
       "      <td>3050</td>\n",
       "    </tr>\n",
       "    <tr>\n",
       "      <th>MOTOR VEHICLE THEFT</th>\n",
       "      <td>5288</td>\n",
       "      <td>327031</td>\n",
       "      <td>332319</td>\n",
       "    </tr>\n",
       "    <tr>\n",
       "      <th>NARCOTICS</th>\n",
       "      <td>28553</td>\n",
       "      <td>269900</td>\n",
       "      <td>298453</td>\n",
       "    </tr>\n",
       "    <tr>\n",
       "      <th>NON - CRIMINAL</th>\n",
       "      <td>14</td>\n",
       "      <td>4</td>\n",
       "      <td>18</td>\n",
       "    </tr>\n",
       "    <tr>\n",
       "      <th>NON-CRIMINAL</th>\n",
       "      <td>36</td>\n",
       "      <td>27</td>\n",
       "      <td>63</td>\n",
       "    </tr>\n",
       "    <tr>\n",
       "      <th>NON-CRIMINAL (SUBJECT SPECIFIED)</th>\n",
       "      <td>2</td>\n",
       "      <td>&lt;NA&gt;</td>\n",
       "      <td>2</td>\n",
       "    </tr>\n",
       "    <tr>\n",
       "      <th>OBSCENITY</th>\n",
       "      <td>392</td>\n",
       "      <td>42</td>\n",
       "      <td>434</td>\n",
       "    </tr>\n",
       "    <tr>\n",
       "      <th>OFFENSE INVOLVING CHILDREN</th>\n",
       "      <td>31370</td>\n",
       "      <td>2636</td>\n",
       "      <td>34006</td>\n",
       "    </tr>\n",
       "    <tr>\n",
       "      <th>OTHER NARCOTIC VIOLATION</th>\n",
       "      <td>3</td>\n",
       "      <td>26</td>\n",
       "      <td>29</td>\n",
       "    </tr>\n",
       "    <tr>\n",
       "      <th>OTHER OFFENSE</th>\n",
       "      <td>222030</td>\n",
       "      <td>89733</td>\n",
       "      <td>311763</td>\n",
       "    </tr>\n",
       "    <tr>\n",
       "      <th>PROSTITUTION</th>\n",
       "      <td>598</td>\n",
       "      <td>58301</td>\n",
       "      <td>58899</td>\n",
       "    </tr>\n",
       "    <tr>\n",
       "      <th>PUBLIC INDECENCY</th>\n",
       "      <td>1</td>\n",
       "      <td>17</td>\n",
       "      <td>18</td>\n",
       "    </tr>\n",
       "    <tr>\n",
       "      <th>PUBLIC PEACE VIOLATION</th>\n",
       "      <td>5194</td>\n",
       "      <td>16313</td>\n",
       "      <td>21507</td>\n",
       "    </tr>\n",
       "    <tr>\n",
       "      <th>RITUALISM</th>\n",
       "      <td>5</td>\n",
       "      <td>6</td>\n",
       "      <td>11</td>\n",
       "    </tr>\n",
       "    <tr>\n",
       "      <th>ROBBERY</th>\n",
       "      <td>6010</td>\n",
       "      <td>98205</td>\n",
       "      <td>104215</td>\n",
       "    </tr>\n",
       "    <tr>\n",
       "      <th>SEX OFFENSE</th>\n",
       "      <td>8496</td>\n",
       "      <td>3178</td>\n",
       "      <td>11674</td>\n",
       "    </tr>\n",
       "    <tr>\n",
       "      <th>STALKING</th>\n",
       "      <td>1502</td>\n",
       "      <td>1295</td>\n",
       "      <td>2797</td>\n",
       "    </tr>\n",
       "    <tr>\n",
       "      <th>THEFT</th>\n",
       "      <td>175932</td>\n",
       "      <td>471771</td>\n",
       "      <td>647703</td>\n",
       "    </tr>\n",
       "    <tr>\n",
       "      <th>WEAPONS VIOLATION</th>\n",
       "      <td>9494</td>\n",
       "      <td>48303</td>\n",
       "      <td>57797</td>\n",
       "    </tr>\n",
       "    <tr>\n",
       "      <th>All</th>\n",
       "      <td>1365864</td>\n",
       "      <td>2163151</td>\n",
       "      <td>3529015</td>\n",
       "    </tr>\n",
       "  </tbody>\n",
       "</table>\n",
       "</div>"
      ],
      "text/plain": [
       "location_description               RESIDENCE   STREET      All\n",
       "primary_type                                                  \n",
       "ARSON                                   2534     1167     3701\n",
       "ASSAULT                                91559   112037   203596\n",
       "BATTERY                               306830   258273   565103\n",
       "BURGLARY                              144748     2080   146828\n",
       "CONCEALED CARRY LICENSE VIOLATION          1      610      611\n",
       "CRIM SEXUAL ASSAULT                     8906     1280    10186\n",
       "CRIMINAL DAMAGE                       171784   340760   512544\n",
       "CRIMINAL SEXUAL ASSAULT                 2449      509     2958\n",
       "CRIMINAL TRESPASS                      28549    11705    40254\n",
       "DECEPTIVE PRACTICE                    109344    23853   133197\n",
       "GAMBLING                                 108     1770     1878\n",
       "HOMICIDE                                   3     6907     6910\n",
       "HUMAN TRAFFICKING                         50       13       63\n",
       "INTERFERENCE WITH PUBLIC OFFICER         524     9770    10294\n",
       "INTIMIDATION                            1466      712     2178\n",
       "KIDNAPPING                              1808     2148     3956\n",
       "LIQUOR LAW VIOLATION                     281     2769     3050\n",
       "MOTOR VEHICLE THEFT                     5288   327031   332319\n",
       "NARCOTICS                              28553   269900   298453\n",
       "NON - CRIMINAL                            14        4       18\n",
       "NON-CRIMINAL                              36       27       63\n",
       "NON-CRIMINAL (SUBJECT SPECIFIED)           2     <NA>        2\n",
       "OBSCENITY                                392       42      434\n",
       "OFFENSE INVOLVING CHILDREN             31370     2636    34006\n",
       "OTHER NARCOTIC VIOLATION                   3       26       29\n",
       "OTHER OFFENSE                         222030    89733   311763\n",
       "PROSTITUTION                             598    58301    58899\n",
       "PUBLIC INDECENCY                           1       17       18\n",
       "PUBLIC PEACE VIOLATION                  5194    16313    21507\n",
       "RITUALISM                                  5        6       11\n",
       "ROBBERY                                 6010    98205   104215\n",
       "SEX OFFENSE                             8496     3178    11674\n",
       "STALKING                                1502     1295     2797\n",
       "THEFT                                 175932   471771   647703\n",
       "WEAPONS VIOLATION                       9494    48303    57797\n",
       "All                                  1365864  2163151  3529015"
      ]
     },
     "execution_count": 36,
     "metadata": {},
     "output_type": "execute_result"
    }
   ],
   "source": [
    "#pd.crosstab(df.make, df.body_style, values=df.curb_weight, aggfunc='mean')\n",
    "pd.crosstab(\n",
    "    chicago_crime_pddf.primary_type, \n",
    "    chicago_crime_pddf.location_description, \n",
    "    values=chicago_crime_pddf.crime_count, \n",
    "    aggfunc='sum', \n",
    "    margins=True\n",
    ")"
   ]
  },
  {
   "cell_type": "code",
   "execution_count": 37,
   "id": "e4f0a831-a91b-4bf6-babb-4942f71ce296",
   "metadata": {
    "tags": []
   },
   "outputs": [
    {
     "data": {
      "text/html": [
       "<div>\n",
       "<style scoped>\n",
       "    .dataframe tbody tr th:only-of-type {\n",
       "        vertical-align: middle;\n",
       "    }\n",
       "\n",
       "    .dataframe tbody tr th {\n",
       "        vertical-align: top;\n",
       "    }\n",
       "\n",
       "    .dataframe thead th {\n",
       "        text-align: right;\n",
       "    }\n",
       "</style>\n",
       "<table border=\"1\" class=\"dataframe\">\n",
       "  <thead>\n",
       "    <tr style=\"text-align: right;\">\n",
       "      <th>location_description</th>\n",
       "      <th>RESIDENCE</th>\n",
       "      <th>STREET</th>\n",
       "    </tr>\n",
       "    <tr>\n",
       "      <th>primary_type</th>\n",
       "      <th></th>\n",
       "      <th></th>\n",
       "    </tr>\n",
       "  </thead>\n",
       "  <tbody>\n",
       "    <tr>\n",
       "      <th>ARSON</th>\n",
       "      <td>0.68468</td>\n",
       "      <td>0.31532</td>\n",
       "    </tr>\n",
       "    <tr>\n",
       "      <th>ASSAULT</th>\n",
       "      <td>0.449709</td>\n",
       "      <td>0.550291</td>\n",
       "    </tr>\n",
       "    <tr>\n",
       "      <th>BATTERY</th>\n",
       "      <td>0.542963</td>\n",
       "      <td>0.457037</td>\n",
       "    </tr>\n",
       "    <tr>\n",
       "      <th>BURGLARY</th>\n",
       "      <td>0.985834</td>\n",
       "      <td>0.014166</td>\n",
       "    </tr>\n",
       "    <tr>\n",
       "      <th>CONCEALED CARRY LICENSE VIOLATION</th>\n",
       "      <td>0.001637</td>\n",
       "      <td>0.998363</td>\n",
       "    </tr>\n",
       "    <tr>\n",
       "      <th>CRIM SEXUAL ASSAULT</th>\n",
       "      <td>0.874337</td>\n",
       "      <td>0.125663</td>\n",
       "    </tr>\n",
       "    <tr>\n",
       "      <th>CRIMINAL DAMAGE</th>\n",
       "      <td>0.33516</td>\n",
       "      <td>0.66484</td>\n",
       "    </tr>\n",
       "    <tr>\n",
       "      <th>CRIMINAL SEXUAL ASSAULT</th>\n",
       "      <td>0.827924</td>\n",
       "      <td>0.172076</td>\n",
       "    </tr>\n",
       "    <tr>\n",
       "      <th>CRIMINAL TRESPASS</th>\n",
       "      <td>0.709221</td>\n",
       "      <td>0.290779</td>\n",
       "    </tr>\n",
       "    <tr>\n",
       "      <th>DECEPTIVE PRACTICE</th>\n",
       "      <td>0.820919</td>\n",
       "      <td>0.179081</td>\n",
       "    </tr>\n",
       "    <tr>\n",
       "      <th>GAMBLING</th>\n",
       "      <td>0.057508</td>\n",
       "      <td>0.942492</td>\n",
       "    </tr>\n",
       "    <tr>\n",
       "      <th>HOMICIDE</th>\n",
       "      <td>0.000434</td>\n",
       "      <td>0.999566</td>\n",
       "    </tr>\n",
       "    <tr>\n",
       "      <th>HUMAN TRAFFICKING</th>\n",
       "      <td>0.793651</td>\n",
       "      <td>0.206349</td>\n",
       "    </tr>\n",
       "    <tr>\n",
       "      <th>INTERFERENCE WITH PUBLIC OFFICER</th>\n",
       "      <td>0.050903</td>\n",
       "      <td>0.949097</td>\n",
       "    </tr>\n",
       "    <tr>\n",
       "      <th>INTIMIDATION</th>\n",
       "      <td>0.673095</td>\n",
       "      <td>0.326905</td>\n",
       "    </tr>\n",
       "    <tr>\n",
       "      <th>KIDNAPPING</th>\n",
       "      <td>0.457027</td>\n",
       "      <td>0.542973</td>\n",
       "    </tr>\n",
       "    <tr>\n",
       "      <th>LIQUOR LAW VIOLATION</th>\n",
       "      <td>0.092131</td>\n",
       "      <td>0.907869</td>\n",
       "    </tr>\n",
       "    <tr>\n",
       "      <th>MOTOR VEHICLE THEFT</th>\n",
       "      <td>0.015912</td>\n",
       "      <td>0.984088</td>\n",
       "    </tr>\n",
       "    <tr>\n",
       "      <th>NARCOTICS</th>\n",
       "      <td>0.09567</td>\n",
       "      <td>0.90433</td>\n",
       "    </tr>\n",
       "    <tr>\n",
       "      <th>NON - CRIMINAL</th>\n",
       "      <td>0.777778</td>\n",
       "      <td>0.222222</td>\n",
       "    </tr>\n",
       "    <tr>\n",
       "      <th>NON-CRIMINAL</th>\n",
       "      <td>0.571429</td>\n",
       "      <td>0.428571</td>\n",
       "    </tr>\n",
       "    <tr>\n",
       "      <th>NON-CRIMINAL (SUBJECT SPECIFIED)</th>\n",
       "      <td>1.0</td>\n",
       "      <td>0.0</td>\n",
       "    </tr>\n",
       "    <tr>\n",
       "      <th>OBSCENITY</th>\n",
       "      <td>0.903226</td>\n",
       "      <td>0.096774</td>\n",
       "    </tr>\n",
       "    <tr>\n",
       "      <th>OFFENSE INVOLVING CHILDREN</th>\n",
       "      <td>0.922484</td>\n",
       "      <td>0.077516</td>\n",
       "    </tr>\n",
       "    <tr>\n",
       "      <th>OTHER NARCOTIC VIOLATION</th>\n",
       "      <td>0.103448</td>\n",
       "      <td>0.896552</td>\n",
       "    </tr>\n",
       "    <tr>\n",
       "      <th>OTHER OFFENSE</th>\n",
       "      <td>0.712176</td>\n",
       "      <td>0.287824</td>\n",
       "    </tr>\n",
       "    <tr>\n",
       "      <th>PROSTITUTION</th>\n",
       "      <td>0.010153</td>\n",
       "      <td>0.989847</td>\n",
       "    </tr>\n",
       "    <tr>\n",
       "      <th>PUBLIC INDECENCY</th>\n",
       "      <td>0.055556</td>\n",
       "      <td>0.944444</td>\n",
       "    </tr>\n",
       "    <tr>\n",
       "      <th>PUBLIC PEACE VIOLATION</th>\n",
       "      <td>0.241503</td>\n",
       "      <td>0.758497</td>\n",
       "    </tr>\n",
       "    <tr>\n",
       "      <th>RITUALISM</th>\n",
       "      <td>0.454545</td>\n",
       "      <td>0.545455</td>\n",
       "    </tr>\n",
       "    <tr>\n",
       "      <th>ROBBERY</th>\n",
       "      <td>0.057669</td>\n",
       "      <td>0.942331</td>\n",
       "    </tr>\n",
       "    <tr>\n",
       "      <th>SEX OFFENSE</th>\n",
       "      <td>0.727771</td>\n",
       "      <td>0.272229</td>\n",
       "    </tr>\n",
       "    <tr>\n",
       "      <th>STALKING</th>\n",
       "      <td>0.537004</td>\n",
       "      <td>0.462996</td>\n",
       "    </tr>\n",
       "    <tr>\n",
       "      <th>THEFT</th>\n",
       "      <td>0.271624</td>\n",
       "      <td>0.728376</td>\n",
       "    </tr>\n",
       "    <tr>\n",
       "      <th>WEAPONS VIOLATION</th>\n",
       "      <td>0.164265</td>\n",
       "      <td>0.835735</td>\n",
       "    </tr>\n",
       "    <tr>\n",
       "      <th>All</th>\n",
       "      <td>0.387038</td>\n",
       "      <td>0.612962</td>\n",
       "    </tr>\n",
       "  </tbody>\n",
       "</table>\n",
       "</div>"
      ],
      "text/plain": [
       "location_description               RESIDENCE    STREET\n",
       "primary_type                                          \n",
       "ARSON                                0.68468   0.31532\n",
       "ASSAULT                             0.449709  0.550291\n",
       "BATTERY                             0.542963  0.457037\n",
       "BURGLARY                            0.985834  0.014166\n",
       "CONCEALED CARRY LICENSE VIOLATION   0.001637  0.998363\n",
       "CRIM SEXUAL ASSAULT                 0.874337  0.125663\n",
       "CRIMINAL DAMAGE                      0.33516   0.66484\n",
       "CRIMINAL SEXUAL ASSAULT             0.827924  0.172076\n",
       "CRIMINAL TRESPASS                   0.709221  0.290779\n",
       "DECEPTIVE PRACTICE                  0.820919  0.179081\n",
       "GAMBLING                            0.057508  0.942492\n",
       "HOMICIDE                            0.000434  0.999566\n",
       "HUMAN TRAFFICKING                   0.793651  0.206349\n",
       "INTERFERENCE WITH PUBLIC OFFICER    0.050903  0.949097\n",
       "INTIMIDATION                        0.673095  0.326905\n",
       "KIDNAPPING                          0.457027  0.542973\n",
       "LIQUOR LAW VIOLATION                0.092131  0.907869\n",
       "MOTOR VEHICLE THEFT                 0.015912  0.984088\n",
       "NARCOTICS                            0.09567   0.90433\n",
       "NON - CRIMINAL                      0.777778  0.222222\n",
       "NON-CRIMINAL                        0.571429  0.428571\n",
       "NON-CRIMINAL (SUBJECT SPECIFIED)         1.0       0.0\n",
       "OBSCENITY                           0.903226  0.096774\n",
       "OFFENSE INVOLVING CHILDREN          0.922484  0.077516\n",
       "OTHER NARCOTIC VIOLATION            0.103448  0.896552\n",
       "OTHER OFFENSE                       0.712176  0.287824\n",
       "PROSTITUTION                        0.010153  0.989847\n",
       "PUBLIC INDECENCY                    0.055556  0.944444\n",
       "PUBLIC PEACE VIOLATION              0.241503  0.758497\n",
       "RITUALISM                           0.454545  0.545455\n",
       "ROBBERY                             0.057669  0.942331\n",
       "SEX OFFENSE                         0.727771  0.272229\n",
       "STALKING                            0.537004  0.462996\n",
       "THEFT                               0.271624  0.728376\n",
       "WEAPONS VIOLATION                   0.164265  0.835735\n",
       "All                                 0.387038  0.612962"
      ]
     },
     "execution_count": 37,
     "metadata": {},
     "output_type": "execute_result"
    }
   ],
   "source": [
    "#pd.crosstab(df.make, df.body_style, values=df.curb_weight, aggfunc='mean')\n",
    "pd.crosstab(\n",
    "    chicago_crime_pddf.primary_type, \n",
    "    chicago_crime_pddf.location_description, \n",
    "    values=chicago_crime_pddf.crime_count, \n",
    "    aggfunc='sum', \n",
    "    margins=True,\n",
    "    normalize='index'\n",
    ")"
   ]
  },
  {
   "cell_type": "markdown",
   "id": "f5dbcd37-97ee-49e6-b29f-1b3e67e62aca",
   "metadata": {},
   "source": [
    "## Method 9 : Bar charts\n",
    "\n",
    "A very common task in analysis is to create a bar chart to visualize the relationship between variables\n",
    "\n",
    "In this section we explore how this can be done using BigQuery."
   ]
  },
  {
   "cell_type": "markdown",
   "id": "06025777-a27c-413c-9f99-01987b09dc70",
   "metadata": {
    "tags": []
   },
   "source": [
    "### Approach 1 - Using Matplotlib & BigFrames\n",
    "\n",
    "We are using the BigQuery public dataset to do with london bike rentals\n",
    " * bigquery-public-data.london_bicycles.cycle_hire\n",
    " * ~80,000,000 rows\n",
    " * ~10GB in size\n",
    " \n",
    "Given this size of this table we do not want to simply load the entire table into a local pandas dataframe in the notebook!  \n",
    "\n",
    "Instad we use BigFrames to query the table & manipulate date columns so that they are in the right format for plotting.\n",
    "\n",
    "We then pass the BigFrame to Matplotlib (1). This works because BigFrames implement the necessary pandas api that matplot lib expects.\n",
    "\n",
    "1. https://matplotlib.org/\n"
   ]
  },
  {
   "cell_type": "code",
   "execution_count": null,
   "id": "f82d9d53-a76a-4c6b-81d3-53bba6f5e70f",
   "metadata": {
    "tags": []
   },
   "outputs": [],
   "source": [
    "# https://jakevdp.github.io/blog/2017/12/05/installing-python-packages-from-jupyter/\n",
    "# Install a pip package in the current Jupyter kernel\n",
    "# here the package is bigframes https://pypi.org/project/bigframes/\n",
    "import sys\n",
    "!{sys.executable} -m pip install bigframes"
   ]
  },
  {
   "cell_type": "code",
   "execution_count": 2,
   "id": "231661e2-8d3a-412d-bfa6-7c5ac10d095e",
   "metadata": {
    "tags": []
   },
   "outputs": [],
   "source": [
    "import bigframes.pandas as bpd\n",
    "import matplotlib.pyplot as plt"
   ]
  },
  {
   "cell_type": "code",
   "execution_count": 3,
   "id": "7cbb7e69-4487-4396-a323-20d65addfc3f",
   "metadata": {
    "tags": []
   },
   "outputs": [
    {
     "data": {
      "text/html": [
       "Query job b5392189-6914-4a86-ad62-477896f91f5c is DONE. 0 Bytes processed. <a target=\"_blank\" href=\"https://console.cloud.google.com/bigquery?project=zaro-joonix-net-prj-data-batch&j=bq:EU:b5392189-6914-4a86-ad62-477896f91f5c&page=queryresults\">Open Job</a>"
      ],
      "text/plain": [
       "<IPython.core.display.HTML object>"
      ]
     },
     "metadata": {},
     "output_type": "display_data"
    }
   ],
   "source": [
    "bpd.close_session()\n",
    "bpd.options.bigquery.location = \"EU\"\n",
    "\n",
    "cycle_hire_bf = bpd.read_gbq(\n",
    "    \"bigquery-public-data.london_bicycles.cycle_hire\", \n",
    "    use_cache=False, \n",
    "    columns=[\"start_date\", \"start_station_name\", \"end_station_name\", \"duration\"],  \n",
    "    filters=[(\"duration\", \">\", 0)]\n",
    ")"
   ]
  },
  {
   "cell_type": "code",
   "execution_count": 5,
   "id": "c18b36a4-da26-42d3-b6dc-48b1b6114b04",
   "metadata": {
    "tags": []
   },
   "outputs": [
    {
     "data": {
      "text/html": [
       "Query job 2ae9b81c-78ef-4200-9f6a-8acd3eaef473 is DONE. 1.3 GB processed. <a target=\"_blank\" href=\"https://console.cloud.google.com/bigquery?project=zaro-joonix-net-prj-data-batch&j=bq:EU:2ae9b81c-78ef-4200-9f6a-8acd3eaef473&page=queryresults\">Open Job</a>"
      ],
      "text/plain": [
       "<IPython.core.display.HTML object>"
      ]
     },
     "metadata": {},
     "output_type": "display_data"
    },
    {
     "data": {
      "text/html": [
       "Query job ac66ae2f-8291-4f9d-8c9c-98b7ad570ad9 is DONE. 1.3 GB processed. <a target=\"_blank\" href=\"https://console.cloud.google.com/bigquery?project=zaro-joonix-net-prj-data-batch&j=bq:EU:ac66ae2f-8291-4f9d-8c9c-98b7ad570ad9&page=queryresults\">Open Job</a>"
      ],
      "text/plain": [
       "<IPython.core.display.HTML object>"
      ]
     },
     "metadata": {},
     "output_type": "display_data"
    },
    {
     "data": {
      "text/html": [
       "Query job 22a46415-deac-447d-abb8-73c080831cfb is DONE. 1.3 GB processed. <a target=\"_blank\" href=\"https://console.cloud.google.com/bigquery?project=zaro-joonix-net-prj-data-batch&j=bq:EU:22a46415-deac-447d-abb8-73c080831cfb&page=queryresults\">Open Job</a>"
      ],
      "text/plain": [
       "<IPython.core.display.HTML object>"
      ]
     },
     "metadata": {},
     "output_type": "display_data"
    },
    {
     "data": {
      "text/html": [
       "Query job 537aa573-a064-4788-a0f4-e0e82ac7e579 is DONE. 1.3 GB processed. <a target=\"_blank\" href=\"https://console.cloud.google.com/bigquery?project=zaro-joonix-net-prj-data-batch&j=bq:EU:537aa573-a064-4788-a0f4-e0e82ac7e579&page=queryresults\">Open Job</a>"
      ],
      "text/plain": [
       "<IPython.core.display.HTML object>"
      ]
     },
     "metadata": {},
     "output_type": "display_data"
    },
    {
     "data": {
      "text/html": [
       "Query job dafcf025-8a55-4dfc-ba90-cf3d7413dedc is DONE. 1.3 GB processed. <a target=\"_blank\" href=\"https://console.cloud.google.com/bigquery?project=zaro-joonix-net-prj-data-batch&j=bq:EU:dafcf025-8a55-4dfc-ba90-cf3d7413dedc&page=queryresults\">Open Job</a>"
      ],
      "text/plain": [
       "<IPython.core.display.HTML object>"
      ]
     },
     "metadata": {},
     "output_type": "display_data"
    },
    {
     "data": {
      "text/plain": [
       "Text(0.5, 1.0, 'Number of Bicycle Hires by Hour of the Day')"
      ]
     },
     "execution_count": 5,
     "metadata": {},
     "output_type": "execute_result"
    },
    {
     "data": {
      "image/png": "[encoded data removed]",
      "text/plain": [
       "<Figure size 640x480 with 1 Axes>"
      ]
     },
     "metadata": {},
     "output_type": "display_data"
    }
   ],
   "source": [
    "# split date into hour part\n",
    "# https://pandas.pydata.org/docs/reference/api/pandas.Series.dt.html\n",
    "cycle_hire_bf['start_hour'] = cycle_hire_bf['start_date'].dt.hour\n",
    "# count numberr of rows in group, e.g. rows in this start hours\n",
    "# https://pandas.pydata.org/docs/reference/api/pandas.core.groupby.DataFrameGroupBy.size.html\n",
    "hourly_hires = cycle_hire_bf.groupby('start_hour').size()\n",
    "\n",
    "\n",
    "plt.bar(hourly_hires.index, hourly_hires.values)\n",
    "plt.xlabel('Hour of the Day')\n",
    "plt.ylabel('Number of Hires')\n",
    "plt.title('Number of Bicycle Hires by Hour of the Day')"
   ]
  }
 ],
 "metadata": {
  "environment": {
   "kernel": "conda-base-py",
   "name": "workbench-notebooks.m124",
   "type": "gcloud",
   "uri": "us-docker.pkg.dev/deeplearning-platform-release/gcr.io/workbench-notebooks:m124"
  },
  "kernelspec": {
   "display_name": "Python 3 (ipykernel) (Local)",
   "language": "python",
   "name": "conda-base-py"
  },
  "language_info": {
   "codemirror_mode": {
    "name": "ipython",
    "version": 3
   },
   "file_extension": ".py",
   "mimetype": "text/x-python",
   "name": "python",
   "nbconvert_exporter": "python",
   "pygments_lexer": "ipython3",
   "version": "3.10.14"
  }
 },
 "nbformat": 4,
 "nbformat_minor": 5
}
