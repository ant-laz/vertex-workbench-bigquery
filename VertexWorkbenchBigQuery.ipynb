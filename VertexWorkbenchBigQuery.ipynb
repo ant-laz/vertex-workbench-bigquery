{
 "cells": [
  {
   "cell_type": "code",
   "execution_count": null,
   "id": "f08133e5-25d7-45a4-9a3e-a52e39f3d5e9",
   "metadata": {
    "tags": []
   },
   "outputs": [],
   "source": [
    "# Copyright 2025 Google LLC\n",
    "#\n",
    "# Licensed under the Apache License, Version 2.0 (the \"License\");\n",
    "# you may not use this file except in compliance with the License.\n",
    "# You may obtain a copy of the License at\n",
    "#\n",
    "#     https://www.apache.org/licenses/LICENSE-2.0\n",
    "#\n",
    "# Unless required by applicable law or agreed to in writing, software\n",
    "# distributed under the License is distributed on an \"AS IS\" BASIS,\n",
    "# WITHOUT WARRANTIES OR CONDITIONS OF ANY KIND, either express or implied.\n",
    "# See the License for the specific language governing permissions and\n",
    "# limitations under the License."
   ]
  },
  {
   "cell_type": "markdown",
   "id": "3f36c9b9-43ff-4b26-96ae-b84798a480a3",
   "metadata": {},
   "source": [
    "# Introduction \n",
    "\n",
    "This notebook offers demonstrations of different methods of querying data that is stored in BigQuery from within the JupyterLab interface of your Vertex AI Workbench instance.\n",
    "\n",
    "Confused ? Let's define each of these terms in case they're new to you\n",
    "\n",
    " * **BigQuery** BigQuery is a fully managed, AI-ready data platform that helps you manage and analyze your data with built-in features like machine learning, search, geospatial analysis, and business intelligence. BigQuery's serverless architecture lets you use languages like SQL and Python to answer your organization's biggest questions with zero infrastructure management.\n",
    " \n",
    " * **JupyterLab**  JupyterLab is a highly extensible, feature-rich notebook authoring application and editing environment, and is a part of Project Jupyter, a large umbrella project centered around the goal of providing tools (and standards) for interactive computing with computational notebooks.\n",
    " \n",
    " * **Vertex AI Workbench instance** Vertex AI Workbench instances are Jupyter notebook-based development environments on Google Cloud for the entire data science workflow. Vertex AI Workbench instances are prepackaged with JupyterLab. Vertex AI Workbench instances have integrations and features can make it easier to access your data, process data faster, schedule notebook runs, and more.\n",
    " \n",
    "For most of these methods, we will use a **Python JupyterLab Kernel**. In the Jupyter architecture, kernels are separate processes started by the server that run your code in different programming languages and environments.  We will use the IPython Jupyter Kernel that comes prepackaged with Vertex AI Workbench Instances. This will allow us to execute Python code in this notebook interactively.\n",
    "\n",
    "Reference: \n",
    "\n",
    "https://cloud.google.com/bigquery/docs/introduction\n",
    "\n",
    "https://jupyterlab.readthedocs.io/en/latest/user/interface.html\n",
    "\n",
    "https://cloud.google.com/vertex-ai/docs/workbench/instances/introduction\n",
    "\n",
    "https://jupyterlab.readthedocs.io/en/latest/user/documents_kernels.html#kernel-backed-documents\n",
    "\n",
    "https://ipython.readthedocs.io/en/stable/index.html"
   ]
  },
  {
   "cell_type": "markdown",
   "id": "7bf82d26-df4a-43c4-bd39-311e65b98416",
   "metadata": {},
   "source": [
    "# Method 1 : Using BigQuery Studio, to explore and preview data\n",
    "\n",
    "BigQuery has public datasets which will be ananlyzing in this notebook.\n",
    "\n",
    "In this method we will be using BigQuery Studio, a UI on Google Cloud, to get a sampe of records for these datasets.\n",
    "\n",
    "Open BigQuery studio by clicking on this link https://console.cloud.google.com/bigquery\n",
    "\n",
    "Explore the Google trends public dataset by followin these steps:\n",
    "\n",
    " * select project \"bigquery-public-data\"\n",
    "   * select datatset \"google_trends\"\n",
    "     * select table \"international_top_terms\"\n",
    "       * click \"preview\" to see a sample of rows from this table\n",
    "\n",
    "\n"
   ]
  },
  {
   "cell_type": "markdown",
   "id": "73469eb3-379b-40a0-8e48-fe135a074578",
   "metadata": {
    "tags": []
   },
   "source": [
    "# Method 2 : Using the %%bigquery magic command\n",
    "\n",
    "This is Method 2 of querying data that is stored in BigQuery from within the JupyterLab interface of your Vertex AI Workbench instance.\n",
    "\n",
    "For this method, it is required to use the IPython Jupyter Kernel that comes prepackaged with Vertex AI Workbench Instances. Please select & connect to it now.\n",
    "\n",
    "The IPython Jupyter Kernel has a feature called \"cell magics\" which are handy commands built into the IPython kernel that make it easy to perform particular tasks.\n",
    "\n",
    "BigQuery has developed \"cell magics\" to make it easy to execute SQL queries. There are two BigQuery \"cell magics\" \n",
    "\n",
    "1. %%bigquery\n",
    "\n",
    "  *  Behind the scenes, the %%bigquery magic command uses the BigQuery client library for Python to run the given query\n",
    "  *  Then convert the results to a pandas DataFrame \n",
    "  *  Then display results.\n",
    "\n",
    "2. %%bigquery my_pandas_data_frame\n",
    "\n",
    "  *  Behind the scenes, the %%bigquery magic command uses the BigQuery client library for Python to run the given query\n",
    "  *  Then convert the results to a pandas DataFrame \n",
    "  *  Then save the pandas DataFrame to the variable my_pandas_data_frame\n",
    "  \n",
    "See exampe of these two \"cell magics\" below\n",
    "\n",
    "Reference:\n",
    "\n",
    "https://cloud.google.com/vertex-ai/docs/workbench/instances/bigquery#query_data_by_using_the_bigquery_magic_command\n",
    "\n",
    "https://ipython.readthedocs.io/en/stable/interactive/magics.html#cell-magics\n",
    "\n",
    "https://ipython.readthedocs.io/en/stable/interactive/magics.html#line-magics\n",
    "\n",
    "https://cloud.google.com/python/docs/reference/bigquery/latest/magics\n"
   ]
  },
  {
   "cell_type": "code",
   "execution_count": 9,
   "id": "40035527-b288-4384-a072-1fa7bb7d569c",
   "metadata": {},
   "outputs": [
    {
     "data": {
      "application/json": {
       "ascii": false,
       "bar_format": "{l_bar}{bar}|",
       "colour": null,
       "elapsed": 0.007402896881103516,
       "initial": 0,
       "n": 0,
       "ncols": null,
       "nrows": null,
       "postfix": null,
       "prefix": "Query is running",
       "rate": null,
       "total": 1,
       "unit": "query",
       "unit_divisor": 1000,
       "unit_scale": false
      },
      "application/vnd.jupyter.widget-view+json": {
       "model_id": "2d25ca55e8184ef49e288b86c6c2c32d",
       "version_major": 2,
       "version_minor": 0
      },
      "text/plain": [
       "Query is running:   0%|          |"
      ]
     },
     "metadata": {},
     "output_type": "display_data"
    },
    {
     "data": {
      "application/json": {
       "ascii": false,
       "bar_format": "{l_bar}{bar}|",
       "colour": null,
       "elapsed": 0.0065457820892333984,
       "initial": 0,
       "n": 0,
       "ncols": null,
       "nrows": null,
       "postfix": null,
       "prefix": "Downloading",
       "rate": null,
       "total": 42,
       "unit": "rows",
       "unit_divisor": 1000,
       "unit_scale": false
      },
      "application/vnd.jupyter.widget-view+json": {
       "model_id": "ae6ea9ff879345d88180be817ce944d6",
       "version_major": 2,
       "version_minor": 0
      },
      "text/plain": [
       "Downloading:   0%|          |"
      ]
     },
     "metadata": {},
     "output_type": "display_data"
    },
    {
     "data": {
      "text/html": [
       "<div>\n",
       "<style scoped>\n",
       "    .dataframe tbody tr th:only-of-type {\n",
       "        vertical-align: middle;\n",
       "    }\n",
       "\n",
       "    .dataframe tbody tr th {\n",
       "        vertical-align: top;\n",
       "    }\n",
       "\n",
       "    .dataframe thead th {\n",
       "        text-align: right;\n",
       "    }\n",
       "</style>\n",
       "<table border=\"1\" class=\"dataframe\">\n",
       "  <thead>\n",
       "    <tr style=\"text-align: right;\">\n",
       "      <th></th>\n",
       "      <th>country_code</th>\n",
       "      <th>country_name</th>\n",
       "      <th>num_regions</th>\n",
       "    </tr>\n",
       "  </thead>\n",
       "  <tbody>\n",
       "    <tr>\n",
       "      <th>0</th>\n",
       "      <td>TR</td>\n",
       "      <td>Turkey</td>\n",
       "      <td>81</td>\n",
       "    </tr>\n",
       "    <tr>\n",
       "      <th>1</th>\n",
       "      <td>TH</td>\n",
       "      <td>Thailand</td>\n",
       "      <td>77</td>\n",
       "    </tr>\n",
       "    <tr>\n",
       "      <th>2</th>\n",
       "      <td>VN</td>\n",
       "      <td>Vietnam</td>\n",
       "      <td>63</td>\n",
       "    </tr>\n",
       "    <tr>\n",
       "      <th>3</th>\n",
       "      <td>JP</td>\n",
       "      <td>Japan</td>\n",
       "      <td>47</td>\n",
       "    </tr>\n",
       "    <tr>\n",
       "      <th>4</th>\n",
       "      <td>RO</td>\n",
       "      <td>Romania</td>\n",
       "      <td>42</td>\n",
       "    </tr>\n",
       "    <tr>\n",
       "      <th>5</th>\n",
       "      <td>NG</td>\n",
       "      <td>Nigeria</td>\n",
       "      <td>37</td>\n",
       "    </tr>\n",
       "    <tr>\n",
       "      <th>6</th>\n",
       "      <td>IN</td>\n",
       "      <td>India</td>\n",
       "      <td>36</td>\n",
       "    </tr>\n",
       "    <tr>\n",
       "      <th>7</th>\n",
       "      <td>ID</td>\n",
       "      <td>Indonesia</td>\n",
       "      <td>34</td>\n",
       "    </tr>\n",
       "    <tr>\n",
       "      <th>8</th>\n",
       "      <td>CO</td>\n",
       "      <td>Colombia</td>\n",
       "      <td>33</td>\n",
       "    </tr>\n",
       "    <tr>\n",
       "      <th>9</th>\n",
       "      <td>MX</td>\n",
       "      <td>Mexico</td>\n",
       "      <td>32</td>\n",
       "    </tr>\n",
       "    <tr>\n",
       "      <th>10</th>\n",
       "      <td>EG</td>\n",
       "      <td>Egypt</td>\n",
       "      <td>27</td>\n",
       "    </tr>\n",
       "    <tr>\n",
       "      <th>11</th>\n",
       "      <td>UA</td>\n",
       "      <td>Ukraine</td>\n",
       "      <td>27</td>\n",
       "    </tr>\n",
       "    <tr>\n",
       "      <th>12</th>\n",
       "      <td>BR</td>\n",
       "      <td>Brazil</td>\n",
       "      <td>27</td>\n",
       "    </tr>\n",
       "    <tr>\n",
       "      <th>13</th>\n",
       "      <td>CH</td>\n",
       "      <td>Switzerland</td>\n",
       "      <td>26</td>\n",
       "    </tr>\n",
       "    <tr>\n",
       "      <th>14</th>\n",
       "      <td>AR</td>\n",
       "      <td>Argentina</td>\n",
       "      <td>24</td>\n",
       "    </tr>\n",
       "    <tr>\n",
       "      <th>15</th>\n",
       "      <td>FR</td>\n",
       "      <td>France</td>\n",
       "      <td>22</td>\n",
       "    </tr>\n",
       "    <tr>\n",
       "      <th>16</th>\n",
       "      <td>SE</td>\n",
       "      <td>Sweden</td>\n",
       "      <td>21</td>\n",
       "    </tr>\n",
       "    <tr>\n",
       "      <th>17</th>\n",
       "      <td>HU</td>\n",
       "      <td>Hungary</td>\n",
       "      <td>20</td>\n",
       "    </tr>\n",
       "    <tr>\n",
       "      <th>18</th>\n",
       "      <td>PT</td>\n",
       "      <td>Portugal</td>\n",
       "      <td>20</td>\n",
       "    </tr>\n",
       "    <tr>\n",
       "      <th>19</th>\n",
       "      <td>IT</td>\n",
       "      <td>Italy</td>\n",
       "      <td>20</td>\n",
       "    </tr>\n",
       "    <tr>\n",
       "      <th>20</th>\n",
       "      <td>ES</td>\n",
       "      <td>Spain</td>\n",
       "      <td>19</td>\n",
       "    </tr>\n",
       "    <tr>\n",
       "      <th>21</th>\n",
       "      <td>NO</td>\n",
       "      <td>Norway</td>\n",
       "      <td>19</td>\n",
       "    </tr>\n",
       "    <tr>\n",
       "      <th>22</th>\n",
       "      <td>FI</td>\n",
       "      <td>Finland</td>\n",
       "      <td>18</td>\n",
       "    </tr>\n",
       "    <tr>\n",
       "      <th>23</th>\n",
       "      <td>NZ</td>\n",
       "      <td>New Zealand</td>\n",
       "      <td>17</td>\n",
       "    </tr>\n",
       "    <tr>\n",
       "      <th>24</th>\n",
       "      <td>PH</td>\n",
       "      <td>Philippines</td>\n",
       "      <td>17</td>\n",
       "    </tr>\n",
       "    <tr>\n",
       "      <th>25</th>\n",
       "      <td>MY</td>\n",
       "      <td>Malaysia</td>\n",
       "      <td>16</td>\n",
       "    </tr>\n",
       "    <tr>\n",
       "      <th>26</th>\n",
       "      <td>DE</td>\n",
       "      <td>Germany</td>\n",
       "      <td>16</td>\n",
       "    </tr>\n",
       "    <tr>\n",
       "      <th>27</th>\n",
       "      <td>KR</td>\n",
       "      <td>South Korea</td>\n",
       "      <td>16</td>\n",
       "    </tr>\n",
       "    <tr>\n",
       "      <th>28</th>\n",
       "      <td>PL</td>\n",
       "      <td>Poland</td>\n",
       "      <td>16</td>\n",
       "    </tr>\n",
       "    <tr>\n",
       "      <th>29</th>\n",
       "      <td>CL</td>\n",
       "      <td>Chile</td>\n",
       "      <td>15</td>\n",
       "    </tr>\n",
       "    <tr>\n",
       "      <th>30</th>\n",
       "      <td>CZ</td>\n",
       "      <td>Czech Republic</td>\n",
       "      <td>14</td>\n",
       "    </tr>\n",
       "    <tr>\n",
       "      <th>31</th>\n",
       "      <td>CA</td>\n",
       "      <td>Canada</td>\n",
       "      <td>13</td>\n",
       "    </tr>\n",
       "    <tr>\n",
       "      <th>32</th>\n",
       "      <td>SA</td>\n",
       "      <td>Saudi Arabia</td>\n",
       "      <td>13</td>\n",
       "    </tr>\n",
       "    <tr>\n",
       "      <th>33</th>\n",
       "      <td>NL</td>\n",
       "      <td>Netherlands</td>\n",
       "      <td>12</td>\n",
       "    </tr>\n",
       "    <tr>\n",
       "      <th>34</th>\n",
       "      <td>AT</td>\n",
       "      <td>Austria</td>\n",
       "      <td>9</td>\n",
       "    </tr>\n",
       "    <tr>\n",
       "      <th>35</th>\n",
       "      <td>ZA</td>\n",
       "      <td>South Africa</td>\n",
       "      <td>9</td>\n",
       "    </tr>\n",
       "    <tr>\n",
       "      <th>36</th>\n",
       "      <td>AU</td>\n",
       "      <td>Australia</td>\n",
       "      <td>8</td>\n",
       "    </tr>\n",
       "    <tr>\n",
       "      <th>37</th>\n",
       "      <td>IL</td>\n",
       "      <td>Israel</td>\n",
       "      <td>6</td>\n",
       "    </tr>\n",
       "    <tr>\n",
       "      <th>38</th>\n",
       "      <td>TW</td>\n",
       "      <td>Taiwan</td>\n",
       "      <td>6</td>\n",
       "    </tr>\n",
       "    <tr>\n",
       "      <th>39</th>\n",
       "      <td>DK</td>\n",
       "      <td>Denmark</td>\n",
       "      <td>5</td>\n",
       "    </tr>\n",
       "    <tr>\n",
       "      <th>40</th>\n",
       "      <td>GB</td>\n",
       "      <td>United Kingdom</td>\n",
       "      <td>4</td>\n",
       "    </tr>\n",
       "    <tr>\n",
       "      <th>41</th>\n",
       "      <td>BE</td>\n",
       "      <td>Belgium</td>\n",
       "      <td>3</td>\n",
       "    </tr>\n",
       "  </tbody>\n",
       "</table>\n",
       "</div>"
      ],
      "text/plain": [
       "   country_code    country_name  num_regions\n",
       "0            TR          Turkey           81\n",
       "1            TH        Thailand           77\n",
       "2            VN         Vietnam           63\n",
       "3            JP           Japan           47\n",
       "4            RO         Romania           42\n",
       "5            NG         Nigeria           37\n",
       "6            IN           India           36\n",
       "7            ID       Indonesia           34\n",
       "8            CO        Colombia           33\n",
       "9            MX          Mexico           32\n",
       "10           EG           Egypt           27\n",
       "11           UA         Ukraine           27\n",
       "12           BR          Brazil           27\n",
       "13           CH     Switzerland           26\n",
       "14           AR       Argentina           24\n",
       "15           FR          France           22\n",
       "16           SE          Sweden           21\n",
       "17           HU         Hungary           20\n",
       "18           PT        Portugal           20\n",
       "19           IT           Italy           20\n",
       "20           ES           Spain           19\n",
       "21           NO          Norway           19\n",
       "22           FI         Finland           18\n",
       "23           NZ     New Zealand           17\n",
       "24           PH     Philippines           17\n",
       "25           MY        Malaysia           16\n",
       "26           DE         Germany           16\n",
       "27           KR     South Korea           16\n",
       "28           PL          Poland           16\n",
       "29           CL           Chile           15\n",
       "30           CZ  Czech Republic           14\n",
       "31           CA          Canada           13\n",
       "32           SA    Saudi Arabia           13\n",
       "33           NL     Netherlands           12\n",
       "34           AT         Austria            9\n",
       "35           ZA    South Africa            9\n",
       "36           AU       Australia            8\n",
       "37           IL          Israel            6\n",
       "38           TW          Taiwan            6\n",
       "39           DK         Denmark            5\n",
       "40           GB  United Kingdom            4\n",
       "41           BE         Belgium            3"
      ]
     },
     "execution_count": 9,
     "metadata": {},
     "output_type": "execute_result"
    }
   ],
   "source": [
    "%%bigquery\n",
    "SELECT\n",
    "  country_code,\n",
    "  country_name,\n",
    "  COUNT(DISTINCT region_code) AS num_regions\n",
    "FROM\n",
    "  `bigquery-public-data.google_trends.international_top_terms`\n",
    "WHERE\n",
    "  refresh_date = DATE_SUB(CURRENT_DATE, INTERVAL 1 DAY)\n",
    "GROUP BY\n",
    "  country_code,\n",
    "  country_name\n",
    "ORDER BY\n",
    "  num_regions DESC;"
   ]
  },
  {
   "cell_type": "code",
   "execution_count": 10,
   "id": "623f0cd6-a05f-412f-bdc2-5f0afcee7b84",
   "metadata": {
    "tags": []
   },
   "outputs": [
    {
     "data": {
      "application/json": {
       "ascii": false,
       "bar_format": "{l_bar}{bar}|",
       "colour": null,
       "elapsed": 0.008702278137207031,
       "initial": 0,
       "n": 0,
       "ncols": null,
       "nrows": null,
       "postfix": null,
       "prefix": "Query is running",
       "rate": null,
       "total": 1,
       "unit": "query",
       "unit_divisor": 1000,
       "unit_scale": false
      },
      "application/vnd.jupyter.widget-view+json": {
       "model_id": "ee559a1cbfff4b7cab5081c514f40a30",
       "version_major": 2,
       "version_minor": 0
      },
      "text/plain": [
       "Query is running:   0%|          |"
      ]
     },
     "metadata": {},
     "output_type": "display_data"
    },
    {
     "data": {
      "application/json": {
       "ascii": false,
       "bar_format": "{l_bar}{bar}|",
       "colour": null,
       "elapsed": 0.006310939788818359,
       "initial": 0,
       "n": 0,
       "ncols": null,
       "nrows": null,
       "postfix": null,
       "prefix": "Downloading",
       "rate": null,
       "total": 42,
       "unit": "rows",
       "unit_divisor": 1000,
       "unit_scale": false
      },
      "application/vnd.jupyter.widget-view+json": {
       "model_id": "2c86bcb5bf6a41ac9ed7fccc2d2a244b",
       "version_major": 2,
       "version_minor": 0
      },
      "text/plain": [
       "Downloading:   0%|          |"
      ]
     },
     "metadata": {},
     "output_type": "display_data"
    }
   ],
   "source": [
    "%%bigquery regions_by_country\n",
    "SELECT\n",
    "  country_code,\n",
    "  country_name,\n",
    "  COUNT(DISTINCT region_code) AS num_regions\n",
    "FROM\n",
    "  `bigquery-public-data.google_trends.international_top_terms`\n",
    "WHERE\n",
    "  refresh_date = DATE_SUB(CURRENT_DATE, INTERVAL 1 DAY)\n",
    "GROUP BY\n",
    "  country_code, country_name\n",
    "ORDER BY\n",
    "  num_regions DESC;"
   ]
  },
  {
   "cell_type": "code",
   "execution_count": 11,
   "id": "0c37135f-29e9-47a4-bb1b-a1d4eef75910",
   "metadata": {
    "tags": []
   },
   "outputs": [
    {
     "data": {
      "text/html": [
       "<div>\n",
       "<style scoped>\n",
       "    .dataframe tbody tr th:only-of-type {\n",
       "        vertical-align: middle;\n",
       "    }\n",
       "\n",
       "    .dataframe tbody tr th {\n",
       "        vertical-align: top;\n",
       "    }\n",
       "\n",
       "    .dataframe thead th {\n",
       "        text-align: right;\n",
       "    }\n",
       "</style>\n",
       "<table border=\"1\" class=\"dataframe\">\n",
       "  <thead>\n",
       "    <tr style=\"text-align: right;\">\n",
       "      <th></th>\n",
       "      <th>country_code</th>\n",
       "      <th>country_name</th>\n",
       "      <th>num_regions</th>\n",
       "    </tr>\n",
       "  </thead>\n",
       "  <tbody>\n",
       "    <tr>\n",
       "      <th>0</th>\n",
       "      <td>TR</td>\n",
       "      <td>Turkey</td>\n",
       "      <td>81</td>\n",
       "    </tr>\n",
       "    <tr>\n",
       "      <th>1</th>\n",
       "      <td>TH</td>\n",
       "      <td>Thailand</td>\n",
       "      <td>77</td>\n",
       "    </tr>\n",
       "    <tr>\n",
       "      <th>2</th>\n",
       "      <td>VN</td>\n",
       "      <td>Vietnam</td>\n",
       "      <td>63</td>\n",
       "    </tr>\n",
       "    <tr>\n",
       "      <th>3</th>\n",
       "      <td>JP</td>\n",
       "      <td>Japan</td>\n",
       "      <td>47</td>\n",
       "    </tr>\n",
       "    <tr>\n",
       "      <th>4</th>\n",
       "      <td>RO</td>\n",
       "      <td>Romania</td>\n",
       "      <td>42</td>\n",
       "    </tr>\n",
       "  </tbody>\n",
       "</table>\n",
       "</div>"
      ],
      "text/plain": [
       "  country_code country_name  num_regions\n",
       "0           TR       Turkey           81\n",
       "1           TH     Thailand           77\n",
       "2           VN      Vietnam           63\n",
       "3           JP        Japan           47\n",
       "4           RO      Romania           42"
      ]
     },
     "execution_count": 11,
     "metadata": {},
     "output_type": "execute_result"
    }
   ],
   "source": [
    "regions_by_country.head()"
   ]
  },
  {
   "cell_type": "markdown",
   "id": "3fd7abff-6c1c-4a6b-987b-c0831798ec71",
   "metadata": {},
   "source": [
    "# Method 3 : Using the BigQuery python client library \n",
    "\n",
    "This is Method 3 of querying data that is stored in BigQuery from within the JupyterLab interface of your Vertex AI Workbench instance.\n",
    "\n",
    "For this method, it is required to use the IPython Jupyter Kernel that comes prepackaged with Vertex AI Workbench Instances. Please select & connect to it now.\n",
    "\n",
    "As per the example below, using the BigQuery client library involves: \n",
    "\n",
    "1. importing the library\n",
    "2. initialing a BigQuery client object\n",
    "3. defining your SQL query\n",
    "4. getting the BigQuery client object to execute SQL and return a pandas Dataframe\n",
    "5. with the returned pandas Dataframe you can use a number of Python data analysis, data wrangling, and visualization libraries\n",
    "\n",
    "\n",
    "\n",
    "Reference :\n",
    "\n",
    "https://cloud.google.com/vertex-ai/docs/workbench/instances/bigquery#query_data_by_using_the_client_library_directly\n",
    "\n",
    "\n"
   ]
  },
  {
   "cell_type": "code",
   "execution_count": 12,
   "id": "1a44edb7-75bd-4392-8191-aa3dda5f0b13",
   "metadata": {},
   "outputs": [],
   "source": [
    "from google.cloud import bigquery\n",
    "\n",
    "client = bigquery.Client()"
   ]
  },
  {
   "cell_type": "code",
   "execution_count": 13,
   "id": "13e850be-7740-424e-be81-e5191f61ad7f",
   "metadata": {
    "tags": []
   },
   "outputs": [
    {
     "data": {
      "text/html": [
       "<div>\n",
       "<style scoped>\n",
       "    .dataframe tbody tr th:only-of-type {\n",
       "        vertical-align: middle;\n",
       "    }\n",
       "\n",
       "    .dataframe tbody tr th {\n",
       "        vertical-align: top;\n",
       "    }\n",
       "\n",
       "    .dataframe thead th {\n",
       "        text-align: right;\n",
       "    }\n",
       "</style>\n",
       "<table border=\"1\" class=\"dataframe\">\n",
       "  <thead>\n",
       "    <tr style=\"text-align: right;\">\n",
       "      <th></th>\n",
       "      <th>days_apart</th>\n",
       "      <th>num_date_pairs</th>\n",
       "      <th>num_date1_terms</th>\n",
       "      <th>overlap_terms</th>\n",
       "      <th>pct_overlap_terms</th>\n",
       "    </tr>\n",
       "  </thead>\n",
       "  <tbody>\n",
       "    <tr>\n",
       "      <th>0</th>\n",
       "      <td>0</td>\n",
       "      <td>33</td>\n",
       "      <td>822</td>\n",
       "      <td>822</td>\n",
       "      <td>1.000000</td>\n",
       "    </tr>\n",
       "    <tr>\n",
       "      <th>1</th>\n",
       "      <td>1</td>\n",
       "      <td>31</td>\n",
       "      <td>775</td>\n",
       "      <td>1</td>\n",
       "      <td>0.001290</td>\n",
       "    </tr>\n",
       "    <tr>\n",
       "      <th>2</th>\n",
       "      <td>2</td>\n",
       "      <td>30</td>\n",
       "      <td>750</td>\n",
       "      <td>0</td>\n",
       "      <td>0.000000</td>\n",
       "    </tr>\n",
       "    <tr>\n",
       "      <th>3</th>\n",
       "      <td>3</td>\n",
       "      <td>29</td>\n",
       "      <td>725</td>\n",
       "      <td>0</td>\n",
       "      <td>0.000000</td>\n",
       "    </tr>\n",
       "    <tr>\n",
       "      <th>4</th>\n",
       "      <td>4</td>\n",
       "      <td>28</td>\n",
       "      <td>700</td>\n",
       "      <td>1</td>\n",
       "      <td>0.001429</td>\n",
       "    </tr>\n",
       "  </tbody>\n",
       "</table>\n",
       "</div>"
      ],
      "text/plain": [
       "   days_apart  num_date_pairs  num_date1_terms  overlap_terms  \\\n",
       "0           0              33              822            822   \n",
       "1           1              31              775              1   \n",
       "2           2              30              750              0   \n",
       "3           3              29              725              0   \n",
       "4           4              28              700              1   \n",
       "\n",
       "   pct_overlap_terms  \n",
       "0           1.000000  \n",
       "1           0.001290  \n",
       "2           0.000000  \n",
       "3           0.000000  \n",
       "4           0.001429  "
      ]
     },
     "execution_count": 13,
     "metadata": {},
     "output_type": "execute_result"
    }
   ],
   "source": [
    "sql = \"\"\"\n",
    "WITH\n",
    "  TopTermsByDate AS (\n",
    "    SELECT DISTINCT refresh_date AS date, term\n",
    "    FROM `bigquery-public-data.google_trends.top_terms`\n",
    "  ),\n",
    "  DistinctDates AS (\n",
    "    SELECT DISTINCT date\n",
    "    FROM TopTermsByDate\n",
    "  )\n",
    "SELECT\n",
    "  DATE_DIFF(Dates2.date, Date1Terms.date, DAY)\n",
    "    AS days_apart,\n",
    "  COUNT(DISTINCT (Dates2.date || Date1Terms.date))\n",
    "    AS num_date_pairs,\n",
    "  COUNT(Date1Terms.term) AS num_date1_terms,\n",
    "  SUM(IF(Date2Terms.term IS NOT NULL, 1, 0))\n",
    "    AS overlap_terms,\n",
    "  SAFE_DIVIDE(\n",
    "    SUM(IF(Date2Terms.term IS NOT NULL, 1, 0)),\n",
    "    COUNT(Date1Terms.term)\n",
    "    ) AS pct_overlap_terms\n",
    "FROM\n",
    "  TopTermsByDate AS Date1Terms\n",
    "CROSS JOIN\n",
    "  DistinctDates AS Dates2\n",
    "LEFT JOIN\n",
    "  TopTermsByDate AS Date2Terms\n",
    "  ON\n",
    "    Dates2.date = Date2Terms.date\n",
    "    AND Date1Terms.term = Date2Terms.term\n",
    "WHERE\n",
    "  Date1Terms.date <= Dates2.date\n",
    "GROUP BY\n",
    "  days_apart\n",
    "\n",
    "ORDER BY\n",
    "  days_apart;\n",
    "\"\"\"\n",
    "pct_overlap_terms_by_days_apart = client.query(sql).to_dataframe()\n",
    "\n",
    "pct_overlap_terms_by_days_apart.head()"
   ]
  },
  {
   "cell_type": "markdown",
   "id": "7c563e2b-ef6b-4882-bed8-feb9691ccdc5",
   "metadata": {
    "tags": []
   },
   "source": [
    "# Method 4 : Using the BigQuery integration into Vertex AI workbench\n",
    "\n",
    "This is Method 4 of querying data that is stored in BigQuery from within the JupyterLab interface of your Vertex AI Workbench instance.\n",
    "\n",
    "The In-cell BigQuery query editor is a cell type that you can use within your notebook files.\n",
    "\n",
    "Select the BigQuery icon on a given cell to launc the In-cell BigQuery query editor. \n",
    "\n",
    "Reference : \n",
    "\n",
    "https://cloud.google.com/vertex-ai/docs/workbench/instances/bigquery#in-cell\n",
    "\n"
   ]
  },
  {
   "cell_type": "markdown",
   "id": "092b287a-f8a6-4d27-8a09-302026117973",
   "metadata": {},
   "source": [
    "# Method 5 : Use BigQuery DataFrames aka \"BigFrames\" to super charge pandas workloads\n",
    "\n",
    "This is Method 6 of querying data that is stored in BigQuery from within the JupyterLab interface of your Vertex AI Workbench instance.\n",
    "\n",
    "For this method, it is required to use the IPython Jupyter Kernel that comes prepackaged with Vertex AI Workbench Instances. Please select & connect to it now.\n",
    "\n",
    "BigQuery DataFrames provides a Python library **bigframes.pandas** which provides a pandas-compatible API for analytics. \n",
    "\n",
    "Through this library you take advantage of BigQuery data processing by using familiar pandas python APIs. BigQuery DataFrames provides a Pythonic DataFrame powered by the BigQuery engine, and it implements the pandas  APIs by pushing the processing down to BigQuery through SQL conversion. This lets you use BigQuery to explore and process terabytes of data with Python APIs.\n",
    "\n",
    "\n",
    "Reference : \n",
    "\n",
    "https://cloud.google.com/bigquery/docs/bigquery-dataframes-introduction\n",
    "\n",
    "https://cloud.google.com/bigquery/docs/use-bigquery-dataframes\n",
    "\n",
    "https://github.com/googleapis/python-bigquery-dataframes/tree/main/notebooks\n"
   ]
  },
  {
   "cell_type": "code",
   "execution_count": null,
   "id": "68470cab-fe14-4c69-b02c-3f6ba23b6da9",
   "metadata": {},
   "outputs": [],
   "source": [
    "# https://jakevdp.github.io/blog/2017/12/05/installing-python-packages-from-jupyter/\n",
    "# Install a pip package in the current Jupyter kernel\n",
    "# here the package is bigframes https://pypi.org/project/bigframes/\n",
    "import sys\n",
    "!{sys.executable} -m pip install bigframes"
   ]
  },
  {
   "cell_type": "code",
   "execution_count": 15,
   "id": "604b9b28-d1c5-4116-bdb7-fe00892ca759",
   "metadata": {},
   "outputs": [
    {
     "name": "stdout",
     "output_type": "stream",
     "text": [
      "step 1-of-3 :: loading data from BigQuery\n"
     ]
    },
    {
     "data": {
      "text/html": [
       "Query job eee55140-ba79-4fad-a794-3a970f4712ea is DONE. 0 Bytes processed. <a target=\"_blank\" href=\"https://console.cloud.google.com/bigquery?project=zaro-joonix-net-prj-data-batch&j=bq:US:eee55140-ba79-4fad-a794-3a970f4712ea&page=queryresults\">Open Job</a>"
      ],
      "text/plain": [
       "<IPython.core.display.HTML object>"
      ]
     },
     "metadata": {},
     "output_type": "display_data"
    },
    {
     "name": "stdout",
     "output_type": "stream",
     "text": [
      "step 2-of-3 :: computing mean of body_mass_g column\n"
     ]
    },
    {
     "data": {
      "text/html": [
       "Query job 0d12ad69-b1b8-4ec7-9d90-67865323a3e2 is DONE. 2.7 kB processed. <a target=\"_blank\" href=\"https://console.cloud.google.com/bigquery?project=zaro-joonix-net-prj-data-batch&j=bq:US:0d12ad69-b1b8-4ec7-9d90-67865323a3e2&page=queryresults\">Open Job</a>"
      ],
      "text/plain": [
       "<IPython.core.display.HTML object>"
      ]
     },
     "metadata": {},
     "output_type": "display_data"
    },
    {
     "name": "stdout",
     "output_type": "stream",
     "text": [
      "average_body_mass: 4201.754385964914\n",
      "step 3-of-3 :: computing top speciees by mean body_mass_g\n"
     ]
    },
    {
     "data": {
      "text/html": [
       "Query job 5e462aa8-45d8-4c5c-bbf9-beb2ffd91953 is DONE. 15.6 kB processed. <a target=\"_blank\" href=\"https://console.cloud.google.com/bigquery?project=zaro-joonix-net-prj-data-batch&j=bq:US:5e462aa8-45d8-4c5c-bbf9-beb2ffd91953&page=queryresults\">Open Job</a>"
      ],
      "text/plain": [
       "<IPython.core.display.HTML object>"
      ]
     },
     "metadata": {},
     "output_type": "display_data"
    },
    {
     "data": {
      "text/html": [
       "Query job 27542afe-db6d-498f-b33f-d863c9e6aaab is DONE. 163 Bytes processed. <a target=\"_blank\" href=\"https://console.cloud.google.com/bigquery?project=zaro-joonix-net-prj-data-batch&j=bq:US:27542afe-db6d-498f-b33f-d863c9e6aaab&page=queryresults\">Open Job</a>"
      ],
      "text/plain": [
       "<IPython.core.display.HTML object>"
      ]
     },
     "metadata": {},
     "output_type": "display_data"
    },
    {
     "data": {
      "text/plain": [
       "species\n",
       "Gentoo penguin (Pygoscelis papua)             5076.01626\n",
       "Chinstrap penguin (Pygoscelis antarctica)    3733.088235\n",
       "Adelie Penguin (Pygoscelis adeliae)          3700.662252\n",
       "Name: body_mass_g, dtype: Float64"
      ]
     },
     "execution_count": 15,
     "metadata": {},
     "output_type": "execute_result"
    }
   ],
   "source": [
    "import bigframes.pandas as bpd\n",
    "\n",
    "# import warnings filter & ignore all future warnings\n",
    "# this is for teaching purposes only, to avoid FutureWarnings to do with bigframe compiler implementation\n",
    "from warnings import simplefilter\n",
    "simplefilter(action='ignore', category=FutureWarning)\n",
    "\n",
    "# Load data from BigQuery\n",
    "print(\"step 1-of-3 :: loading data from BigQuery\")\n",
    "query_or_table = \"bigquery-public-data.ml_datasets.penguins\"\n",
    "bq_df = bpd.read_gbq(query_or_table, use_cache=False)\n",
    "\n",
    "# Compute the mean of this body mass across all species:\n",
    "print(\"step 2-of-3 :: computing mean of body_mass_g column\")\n",
    "average_body_mass = bq_df[\"body_mass_g\"].mean()\n",
    "print(f\"average_body_mass: {average_body_mass}\")\n",
    "\n",
    "# Find the heaviest species using the groupby operation to calculate the\n",
    "# mean body_mass_g:\n",
    "print(\"step 3-of-3 :: computing top speciees by mean body_mass_g\")\n",
    "(\n",
    "    bq_df[\"body_mass_g\"]\n",
    "    .groupby(by=bq_df[\"species\"])\n",
    "    .mean()\n",
    "    .sort_values(ascending=False)\n",
    "    .head(10)\n",
    ")"
   ]
  },
  {
   "cell_type": "markdown",
   "id": "faad1dd0-e0d4-4790-96d5-412a527ef683",
   "metadata": {},
   "source": [
    "# Using BigFrames to analyse the USA baby names dataaset\n",
    "\n",
    "Data set: \n",
    "\n",
    " * Open BigQuery studio by clicking on this link https://console.cloud.google.com/bigquery\n",
    "\n",
    " * Let's explore the names of birth registrations in the USA from 1910-2013\n",
    "\n",
    " * BigQuery table :: bigquery-public-data.usa_names.usa_1910_2013\n",
    "\n",
    "Coding references : \n",
    "\n",
    " * https://pbpython.com/pandas-pivot-table-explained.html\n",
    " * https://cloud.google.com/python/docs/reference/bigframes/latest/supported_pandas_apis\n",
    " * https://cloud.google.com/python/docs/reference/bigframes/latest/bigframes.dataframe.DataFrame#bigframes_dataframe_DataFrame_pivot_table\n"
   ]
  },
  {
   "cell_type": "markdown",
   "id": "3a96e851-24c4-49b4-9ad9-47c207725866",
   "metadata": {
    "tags": []
   },
   "source": [
    "## Imports "
   ]
  },
  {
   "cell_type": "code",
   "execution_count": null,
   "id": "16e9e2b4-a996-48d2-8999-228d720869eb",
   "metadata": {
    "tags": []
   },
   "outputs": [],
   "source": [
    "# https://jakevdp.github.io/blog/2017/12/05/installing-python-packages-from-jupyter/\n",
    "# Install a pip package in the current Jupyter kernel\n",
    "# here the package is bigframes https://pypi.org/project/bigframes/\n",
    "import sys\n",
    "!{sys.executable} -m pip install bigframes"
   ]
  },
  {
   "cell_type": "code",
   "execution_count": 10,
   "id": "f1766083-cb54-480b-b900-eadb515c33c0",
   "metadata": {
    "tags": []
   },
   "outputs": [
    {
     "name": "stdout",
     "output_type": "stream",
     "text": [
      "step 1-of-3 :: loading data from BigQuery\n"
     ]
    }
   ],
   "source": [
    "import bigframes.pandas as bpd\n",
    "\n",
    "# import warnings filter & ignore all future warnings\n",
    "# this is for teaching purposes only, to avoid FutureWarnings to do with bigframe compiler implementation\n",
    "from warnings import simplefilter\n",
    "simplefilter(action='ignore', category=FutureWarning)\n",
    "\n",
    "# Load data from BigQuery\n",
    "# Let's explore the names of birth registrations in the USA from 1910-2013\n",
    "print(\"step 1-of-3 :: loading data from BigQuery\")\n",
    "query_or_table = \"bigquery-public-data.usa_names.usa_1910_2013\"\n",
    "bq_df = bpd.read_gbq(query_or_table, use_cache=False)\n",
    "\n"
   ]
  },
  {
   "cell_type": "code",
   "execution_count": 12,
   "id": "b70b69d7-13d8-48b2-99f3-be2a92db49c1",
   "metadata": {
    "tags": []
   },
   "outputs": [],
   "source": [
    "# Let's focus on just one year\n",
    "bq_df_2013 = bq_df[bq_df[\"year\"] == 2013]"
   ]
  },
  {
   "cell_type": "code",
   "execution_count": 15,
   "id": "2890f723-f433-4ccc-94c1-f7b7bcaf5c97",
   "metadata": {
    "tags": []
   },
   "outputs": [
    {
     "data": {
      "text/html": [
       "Query job 1432b388-2335-432c-822d-787fc122036b is DONE. 88.8 MB processed. <a target=\"_blank\" href=\"https://console.cloud.google.com/bigquery?project=zaro-joonix-net-prj-data-batch&j=bq:US:1432b388-2335-432c-822d-787fc122036b&page=queryresults\">Open Job</a>"
      ],
      "text/plain": [
       "<IPython.core.display.HTML object>"
      ]
     },
     "metadata": {},
     "output_type": "display_data"
    },
    {
     "data": {
      "text/html": [
       "<div>\n",
       "<style scoped>\n",
       "    .dataframe tbody tr th:only-of-type {\n",
       "        vertical-align: middle;\n",
       "    }\n",
       "\n",
       "    .dataframe tbody tr th {\n",
       "        vertical-align: top;\n",
       "    }\n",
       "\n",
       "    .dataframe thead th {\n",
       "        text-align: right;\n",
       "    }\n",
       "</style>\n",
       "<table border=\"1\" class=\"dataframe\">\n",
       "  <thead>\n",
       "    <tr style=\"text-align: right;\">\n",
       "      <th></th>\n",
       "      <th>year</th>\n",
       "      <th>number</th>\n",
       "    </tr>\n",
       "  </thead>\n",
       "  <tbody>\n",
       "    <tr>\n",
       "      <th>count</th>\n",
       "      <td>92372.0</td>\n",
       "      <td>92372.0</td>\n",
       "    </tr>\n",
       "    <tr>\n",
       "      <th>mean</th>\n",
       "      <td>2013.0</td>\n",
       "      <td>33.017635</td>\n",
       "    </tr>\n",
       "    <tr>\n",
       "      <th>std</th>\n",
       "      <td>0.0</td>\n",
       "      <td>88.03075</td>\n",
       "    </tr>\n",
       "    <tr>\n",
       "      <th>min</th>\n",
       "      <td>2013.0</td>\n",
       "      <td>5.0</td>\n",
       "    </tr>\n",
       "    <tr>\n",
       "      <th>25%</th>\n",
       "      <td>2013.0</td>\n",
       "      <td>7.0</td>\n",
       "    </tr>\n",
       "    <tr>\n",
       "      <th>50%</th>\n",
       "      <td>2013.0</td>\n",
       "      <td>11.0</td>\n",
       "    </tr>\n",
       "    <tr>\n",
       "      <th>75%</th>\n",
       "      <td>2013.0</td>\n",
       "      <td>25.0</td>\n",
       "    </tr>\n",
       "    <tr>\n",
       "      <th>max</th>\n",
       "      <td>2013.0</td>\n",
       "      <td>3442.0</td>\n",
       "    </tr>\n",
       "  </tbody>\n",
       "</table>\n",
       "<p>8 rows × 2 columns</p>\n",
       "</div>[8 rows x 2 columns in total]"
      ],
      "text/plain": [
       "          year     number\n",
       "count  92372.0    92372.0\n",
       "mean    2013.0  33.017635\n",
       "std        0.0   88.03075\n",
       "min     2013.0        5.0\n",
       "25%     2013.0        7.0\n",
       "50%     2013.0       11.0\n",
       "75%     2013.0       25.0\n",
       "max     2013.0     3442.0\n",
       "\n",
       "[8 rows x 2 columns]"
      ]
     },
     "execution_count": 15,
     "metadata": {},
     "output_type": "execute_result"
    }
   ],
   "source": [
    "# Let's get the descriptive statistics for numerical columns\n",
    "bq_df_2013.describe()"
   ]
  },
  {
   "cell_type": "code",
   "execution_count": 17,
   "id": "6c9ef721-d28f-4e40-94ee-0001eb8a7196",
   "metadata": {
    "tags": []
   },
   "outputs": [],
   "source": [
    "# Let's focus on just 2013 and two states CA & \n",
    "bq_df_2013_CANY = bq_df_2013[bq_df_2013[\"state\"].isin(['CA','NY'])]"
   ]
  },
  {
   "cell_type": "code",
   "execution_count": 29,
   "id": "036eac97-9f23-4cea-900e-42755b66bc6d",
   "metadata": {
    "tags": []
   },
   "outputs": [
    {
     "data": {
      "text/html": [
       "Query job 106909ad-5ec0-4494-be8b-9e444ef7ef3b is DONE. 127.7 MB processed. <a target=\"_blank\" href=\"https://console.cloud.google.com/bigquery?project=zaro-joonix-net-prj-data-batch&j=bq:US:106909ad-5ec0-4494-be8b-9e444ef7ef3b&page=queryresults\">Open Job</a>"
      ],
      "text/plain": [
       "<IPython.core.display.HTML object>"
      ]
     },
     "metadata": {},
     "output_type": "display_data"
    }
   ],
   "source": [
    "# Let's build a cross tab of state vs gender\n",
    "# N.B. BigFrames yas not yet implemented the \"margins\" parameter available in pandas\n",
    "# https://cloud.google.com/python/docs/reference/bigframes/latest/supported_pandas_apis\n",
    "xtabdf = bq_df_2013_CANY.pivot_table(index=\"state\", columns=\"gender\", values=\"number\", aggfunc=\"sum\")"
   ]
  },
  {
   "cell_type": "code",
   "execution_count": 30,
   "id": "4aea938f-a67d-4521-b456-e27bc8274c2d",
   "metadata": {
    "tags": []
   },
   "outputs": [
    {
     "data": {
      "text/html": [
       "Query job bff3e7e4-c22c-4052-a990-ea063e12eafb is DONE. 127.7 MB processed. <a target=\"_blank\" href=\"https://console.cloud.google.com/bigquery?project=zaro-joonix-net-prj-data-batch&j=bq:US:bff3e7e4-c22c-4052-a990-ea063e12eafb&page=queryresults\">Open Job</a>"
      ],
      "text/plain": [
       "<IPython.core.display.HTML object>"
      ]
     },
     "metadata": {},
     "output_type": "display_data"
    },
    {
     "data": {
      "text/html": [
       "Query job 38b145ed-15dd-4310-a139-a18225ccca7f is DONE. 56 Bytes processed. <a target=\"_blank\" href=\"https://console.cloud.google.com/bigquery?project=zaro-joonix-net-prj-data-batch&j=bq:US:38b145ed-15dd-4310-a139-a18225ccca7f&page=queryresults\">Open Job</a>"
      ],
      "text/plain": [
       "<IPython.core.display.HTML object>"
      ]
     },
     "metadata": {},
     "output_type": "display_data"
    },
    {
     "data": {
      "text/html": [
       "<div>\n",
       "<style scoped>\n",
       "    .dataframe tbody tr th:only-of-type {\n",
       "        vertical-align: middle;\n",
       "    }\n",
       "\n",
       "    .dataframe tbody tr th {\n",
       "        vertical-align: top;\n",
       "    }\n",
       "\n",
       "    .dataframe thead th {\n",
       "        text-align: right;\n",
       "    }\n",
       "</style>\n",
       "<table border=\"1\" class=\"dataframe\">\n",
       "  <thead>\n",
       "    <tr style=\"text-align: right;\">\n",
       "      <th>gender</th>\n",
       "      <th>F</th>\n",
       "      <th>M</th>\n",
       "    </tr>\n",
       "    <tr>\n",
       "      <th>state</th>\n",
       "      <th></th>\n",
       "      <th></th>\n",
       "    </tr>\n",
       "  </thead>\n",
       "  <tbody>\n",
       "    <tr>\n",
       "      <th>CA</th>\n",
       "      <td>202912</td>\n",
       "      <td>224695</td>\n",
       "    </tr>\n",
       "    <tr>\n",
       "      <th>NY</th>\n",
       "      <td>90372</td>\n",
       "      <td>101231</td>\n",
       "    </tr>\n",
       "  </tbody>\n",
       "</table>\n",
       "<p>2 rows × 2 columns</p>\n",
       "</div>[2 rows x 2 columns in total]"
      ],
      "text/plain": [
       "gender       F       M\n",
       "state                 \n",
       "CA      202912  224695\n",
       "NY       90372  101231\n",
       "\n",
       "[2 rows x 2 columns]"
      ]
     },
     "execution_count": 30,
     "metadata": {},
     "output_type": "execute_result"
    }
   ],
   "source": [
    "xtabdf"
   ]
  },
  {
   "cell_type": "markdown",
   "id": "f5dbcd37-97ee-49e6-b29f-1b3e67e62aca",
   "metadata": {},
   "source": [
    "# Using BigFrames to analyse the London bike rental dataset\n",
    "Data set: \n",
    "\n",
    " * Open BigQuery studio by clicking on this link https://console.cloud.google.com/bigquery\n",
    "\n",
    " * Let's bi\n",
    "\n",
    " * BigQuery table :: bigquery-public-data.usa_names.usa_1910_2013\n",
    "\n",
    "Coding references : \n",
    "\n",
    " * https://pbpython.com/pandas-pivot-table-explained.html\n",
    " * https://cloud.google.com/python/docs/reference/bigframes/latest/supported_pandas_apis\n",
    " * https://cloud.google.com/python/docs/reference/bigframes/latest/bigframes.dataframe.DataFrame#bigframes_dataframe_DataFrame_pivot_table"
   ]
  },
  {
   "cell_type": "code",
   "execution_count": 35,
   "id": "231661e2-8d3a-412d-bfa6-7c5ac10d095e",
   "metadata": {
    "tags": []
   },
   "outputs": [],
   "source": [
    "import bigframes.pandas as bpd\n",
    "import matplotlib.pyplot as plt"
   ]
  },
  {
   "cell_type": "code",
   "execution_count": 39,
   "id": "7cbb7e69-4487-4396-a323-20d65addfc3f",
   "metadata": {
    "tags": []
   },
   "outputs": [
    {
     "data": {
      "text/html": [
       "Query job 6100ec84-1348-4c73-8f3a-91fefab160f2 is DONE. 0 Bytes processed. <a target=\"_blank\" href=\"https://console.cloud.google.com/bigquery?project=zaro-joonix-net-prj-data-batch&j=bq:EU:6100ec84-1348-4c73-8f3a-91fefab160f2&page=queryresults\">Open Job</a>"
      ],
      "text/plain": [
       "<IPython.core.display.HTML object>"
      ]
     },
     "metadata": {},
     "output_type": "display_data"
    }
   ],
   "source": [
    "bpd.close_session()\n",
    "bpd.options.bigquery.location = \"EU\"\n",
    "\n",
    "cycle_hire_bf = bpd.read_gbq(\n",
    "    \"bigquery-public-data.london_bicycles.cycle_hire\", \n",
    "    use_cache=False, \n",
    "    columns=[\"start_date\", \"start_station_name\", \"end_station_name\", \"duration\"],  \n",
    "    filters=[(\"duration\", \">\", 0)]\n",
    ")"
   ]
  },
  {
   "cell_type": "code",
   "execution_count": null,
   "id": "c18b36a4-da26-42d3-b6dc-48b1b6114b04",
   "metadata": {
    "tags": []
   },
   "outputs": [
    {
     "data": {
      "text/html": [
       "Query job 09d25872-8fb2-4219-a12e-71c86d0b8b72 is DONE. 6.2 GB processed. <a target=\"_blank\" href=\"https://console.cloud.google.com/bigquery?project=zaro-joonix-net-prj-data-batch&j=bq:EU:09d25872-8fb2-4219-a12e-71c86d0b8b72&page=queryresults\">Open Job</a>"
      ],
      "text/plain": [
       "<IPython.core.display.HTML object>"
      ]
     },
     "metadata": {},
     "output_type": "display_data"
    }
   ],
   "source": []
  },
  {
   "cell_type": "code",
   "execution_count": null,
   "id": "57e80b5a-949e-469b-87dc-b2a191a42442",
   "metadata": {},
   "outputs": [],
   "source": []
  }
 ],
 "metadata": {
  "environment": {
   "kernel": "conda-base-py",
   "name": "workbench-notebooks.m124",
   "type": "gcloud",
   "uri": "us-docker.pkg.dev/deeplearning-platform-release/gcr.io/workbench-notebooks:m124"
  },
  "kernelspec": {
   "display_name": "Python 3 (ipykernel) (Local)",
   "language": "python",
   "name": "conda-base-py"
  },
  "language_info": {
   "codemirror_mode": {
    "name": "ipython",
    "version": 3
   },
   "file_extension": ".py",
   "mimetype": "text/x-python",
   "name": "python",
   "nbconvert_exporter": "python",
   "pygments_lexer": "ipython3",
   "version": "3.10.14"
  }
 },
 "nbformat": 4,
 "nbformat_minor": 5
}
